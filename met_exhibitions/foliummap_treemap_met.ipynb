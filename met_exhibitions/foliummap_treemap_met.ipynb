{
 "cells": [
  {
   "cell_type": "code",
   "execution_count": 1,
   "metadata": {},
   "outputs": [],
   "source": [
    "# Install and import packages\n",
    "\n",
    "import spacy\n",
    "import pandas as pd\n",
    "import random\n",
    "import time\n",
    "import csv\n",
    "from geopy.geocoders import Nominatim\n",
    "import folium\n",
    "import plotly.express as px"
   ]
  },
  {
   "cell_type": "code",
   "execution_count": null,
   "metadata": {},
   "outputs": [
    {
     "name": "stdout",
     "output_type": "stream",
     "text": [
      "[('Asian Art at 100: A History in Photographs', ['Photographs']), ('New Discoveries: Early Liturgical Textiles from Egypt, 200–400', ['Egypt']), ('Korea', ['Korea']), ('P.S. Art 2015', ['P.S.']), ('China: Through the Looking Glass', ['China']), ('Sultans of Deccan India, 1500–1700: Opulence and Fantasy', ['India']), ('Bazm and Razm', ['Razm']), ('El Greco in New York', ['New York']), ('Treasures from India', ['India']), ('Kimono', ['Kimono']), ('Assyria to Iberia at the Dawn of the Classical Age', ['Assyria', 'Iberia']), ('The Aesthetic Movement in America', ['America']), ('Asian Art at 100: A History in Photographs', ['Photographs']), (\"City of Memory: William Chappel's Views of Early 19th-Century New York\", ['New York']), ('Velázquez Portraits: Truth in Painting', ['Painting']), ('Max Beckmann in New York', ['New York']), ('The Arts of Nepal and Tibet: Recent Gifts', ['Nepal', 'Tibet']), ('Jerusalem 1000–1400: Every People Under Heaven', ['Jerusalem']), ('P.S. Art 2016', ['P.S.']), (\"Divine Pleasures: Painting from India's Rajput Courts—The Kronos Collections\", ['India']), ('New Discoveries: Early Liturgical Textiles from Egypt, 200–400', ['Egypt']), ('Scholastic Art & Writing Awards: New York City Regional Exhibition', ['New York City Regional Exhibition']), ('Korea', ['Korea']), ('The Face of Dynasty: Royal Crests from Western Cameroon', ['Western Cameroon']), ('Range: Experiments in New York, 1961–2007', ['New York']), ('Company School Painting in India (ca. 1770–1850)', ['India']), ('The Aesthetic Movement in America', ['America']), ('P.S. Art 2017: Celebrating the Creative Spirit of New York City Kids', ['P.S.', 'New York City Kids']), ('American Indian Art from the Fenimore Art Museum: The Thaw Collection', ['Indian Art']), ('Paradise of Exiles: Early Photography in Italy', ['Italy']), ('Asian Art at 100: A History in Photographs', ['Photographs']), (\"City of Memory: William Chappel's Views of Early 19th-Century New York\", ['New York']), (\"Marsden Hartley's Maine\", ['Maine']), ('Scholastic Art & Writing Awards: New York City Regional Exhibition', ['New York City Regional Exhibition']), ('Velázquez Portraits: Truth in Painting', ['Painting']), ('Max Beckmann in New York', ['New York']), ('The Arts of Nepal and Tibet: Recent Gifts', ['Nepal', 'Tibet']), ('Jerusalem 1000–1400: Every People Under Heaven', ['Jerusalem']), ('Atea: Nature and Divinity in Polynesia', ['Polynesia']), ('Essential Korea', ['Essential Korea']), ('Jane and Louise Wilson:Stasi City', ['Stasi City']), ('P.S. Art 2018: Celebrating the Creative Spirit of New York City Kids', ['P.S.', 'New York City Kids']), ('Public Service Announcement: Works by Eva Koťátková and Rachel Harrison', ['Eva Koťátková']), ('The Face of Dynasty: Royal Crests from Western Cameroon', ['Western Cameroon']), ('Public Parks, Private Gardens: Paris to Provence', ['Paris']), ('Painted in Mexico, 1700–1790:Pinxit Mexici', ['Mexico']), ('Before/On/After: William Wegman and California Conceptualism', ['California']), ('American Painters in Italy: From Copley to Sargent', ['Italy']), ('Scholastic Art & Writing Awards: New York City Regional Exhibition', ['New York City Regional Exhibition']), ('William Eggleston:Los Alamos', ['Los Alamos']), ('Diamond Mountains: Travel and Nostalgia in Korean Art', ['Nostalgia']), ('Range: Experiments in New York, 1961–2007', ['New York']), ('Arte del mar: Artistic Exchange in the Caribbean', ['Caribbean']), ('The Facade Commission: Wangechi Mutu,The NewOnes, will free Us', ['Us']), ('Watercolors of the Acropolis: Émile Gilliéron in Athens', ['Athens']), ('Atea: Nature and Divinity in Polynesia', ['Polynesia']), ('P.S. Art 2019: Celebrating the Creative Spirit of New York City Kids', ['P.S.', 'New York City Kids']), ('Essential Korea', ['Essential Korea']), ('Scholastic Art & Writing Awards: New York City Regional Exhibition', ['New York City Regional Exhibition']), ('Jane and Louise Wilson:Stasi City', ['Stasi City']), ('Arte del mar: Artistic Exchange in the Caribbean', ['Caribbean']), ('P.S. Art 2020: Celebrating the Creative Spirit of New York City Kids', ['P.S.', 'New York City Kids']), ('The Facade Commission: Wangechi Mutu,The NewOnes, will free Us', ['Us']), ('Sahel: Art and Empires on the Shores of the Sahara', ['Sahara']), ('Watercolors of the Acropolis: Émile Gilliéron in Athens', ['Athens']), ('In America: A Lexicon of Fashion', ['America']), ('Companions in Solitude: Reclusion and Communion in Chinese Art', ['Solitude']), ('Japan: A History of Style', ['Japan']), ('Spain, 1000–1200: Art at the Frontiers of Faith', ['Spain']), ('P.S. Art 2021: Celebrating the Creative Spirit of New York City Kids', ['P.S.', 'New York City Kids']), ('Arte del mar: Artistic Exchange in the Caribbean', ['Caribbean']), ('P.S. Art 2020: Celebrating the Creative Spirit of New York City Kids', ['P.S.', 'New York City Kids']), ('New York Art Worlds, 1870–1890', ['New York']), ('Victorian Masterpieces from the Museo de Arte de Ponce, Puerto Rico', ['Puerto Rico']), ('Hear Me Now: The Black Potters of Old Edgefield, South Carolina', ['South Carolina']), ('Past/Present/Future: Expanding Indigenous American, Latinx, Hispanic American, Asian American, and Pacific Islander Perspectives in Thomas J. Watson Library', ['Latinx']), ('P.S. Art 2022: Celebrating the Creative Spirit of New York City Kids', ['P.S.', 'New York City Kids']), ('In America: An Anthology of Fashion', ['America']), ('In America: A Lexicon of Fashion', ['America']), ('Companions in Solitude: Reclusion and Communion in Chinese Art', ['Solitude']), ('Scholastic Art & Writing Awards: New York City Regional Exhibition', ['New York City Regional Exhibition']), ('Japan: A History of Style', ['Japan']), ('Spain, 1000–1200: Art at the Frontiers of Faith', ['Spain']), ('New York Art Worlds, 1870–1890', ['New York']), ('Victorian Masterpieces from the Museo de Arte de Ponce, Puerto Rico', ['Puerto Rico']), ('Vertigo of Color: Matisse, Derain, and the Origins of Fauvism', ['Matisse', 'Derain']), ('Proof: Maxime Du Camp’s Photographs of the Eastern Mediterranean and North Africa', ['the Eastern Mediterranean', 'North Africa']), ('Picasso: A Cubist Commission in Brooklyn', ['Brooklyn']), ('Learning to Paint in Premodern China', ['Premodern China']), ('Tree & Serpent: Early Buddhist Art in India, 200 BCE–400 CE', ['India']), ('P.S. Art 2023: Celebrating the Creative Spirit of New York City Kids', ['P.S.', 'New York City Kids']), ('Berenice Abbott’s New York Album, 1929', ['New York']), ('Scholastic Art & Writing Awards: New York City Regional Exhibition', ['New York City Regional Exhibition']), ('Decorated Paper: A Selection of Publications in Watson Library', ['Watson']), ('Hear Me Now: The Black Potters of Old Edgefield, South Carolina', ['South Carolina']), ('Past/Present/Future: Expanding Indigenous American, Latinx, Hispanic American, Asian American, and Pacific Islander Perspectives in Thomas J. Watson Library', ['Latinx']), ('Paris through the Eyes of Saint-Aubin', ['Paris']), ('P. S. Art 2024: Celebrating the Creative Spirit of New York City Kids', ['New York City Kids']), ('New York Art Worlds, 1870–1890', ['New York']), ('Victorian Masterpieces from the Museo de Arte de Ponce, Puerto Rico', ['Puerto Rico']), ('Vertigo of Color: Matisse, Derain, and the Origins of Fauvism', ['Matisse', 'Derain']), ('Proof: Maxime Du Camp’s Photographs of the Eastern Mediterranean and North Africa', ['the Eastern Mediterranean', 'North Africa']), ('Picasso: A Cubist Commission in Brooklyn', ['Brooklyn']), ('Learning to Paint in Premodern China', ['Premodern China'])]\n",
      "104\n"
     ]
    }
   ],
   "source": [
    "# Define a Named Entity Recognition (NER) Function and filter out region names\n",
    "\n",
    "nlp = spacy.load('en_core_web_sm')\n",
    "\n",
    "df = pd.read_csv(\"metexhibitions_2015-2024.csv\")\n",
    "\n",
    "titles = df['Title'].tolist()\n",
    "\n",
    "def extract_geographical_entities(titles):\n",
    "    location_entities = []\n",
    "    for title in titles:\n",
    "        doc = nlp(title)\n",
    "        locations = [ent.text for ent in doc.ents if ent.label_ in ['GPE', 'LOC']]\n",
    "        if locations:\n",
    "            location_entities.append((title, locations))\n",
    "    return location_entities\n",
    "\n",
    "location_entities = extract_geographical_entities(titles)\n",
    "print(location_entities)\n",
    "print(len(location_entities))\n"
   ]
  },
  {
   "cell_type": "code",
   "execution_count": null,
   "metadata": {},
   "outputs": [],
   "source": [
    "# Initialize the geolocator\n",
    "geolocator = Nominatim(user_agent=\"exhibition_map\")\n",
    "\n",
    "# Function to get coordinates of a location\n",
    "def get_coordinates(location):\n",
    "    try:\n",
    "        geocode = geolocator.geocode(location)\n",
    "        if geocode:\n",
    "            return geocode.latitude, geocode.longitude\n",
    "    except Exception as e:\n",
    "        print(f\"Error for {location}: {e}\")\n",
    "    return None, None  # Return None if not found or an error occurs\n",
    "\n",
    "\n",
    "# Open the CSV file for writing\n",
    "with open(\"exhibition_locations.csv\", mode=\"w\", newline=\"\", encoding=\"utf-8\") as file:\n",
    "    writer = csv.writer(file)\n",
    "    writer.writerow([\"Title\", \"Location\", \"Latitude\", \"Longitude\"])  # Write header\n",
    "\n",
    "    # Fetch coordinates for each location\n",
    "    for title, locations in location_entities:\n",
    "        for location in locations:\n",
    "            lat, lon = get_coordinates(location)\n",
    "            time.sleep(1)  # Prevent rate limiting\n",
    "\n",
    "            if lat is not None and lon is not None:\n",
    "                writer.writerow([title, location, lat, lon])\n"
   ]
  },
  {
   "cell_type": "code",
   "execution_count": null,
   "metadata": {},
   "outputs": [],
   "source": [
    "# Create a world map using Folium\n",
    "\n",
    "m = folium.Map(location=[20, 0], zoom_start=2)\n",
    "# Read the CSV and add markers\n",
    "with open(\"exhibition_locations.csv\", mode=\"r\", encoding=\"utf-8\") as file:\n",
    "    reader = csv.reader(file)\n",
    "    next(reader)  # Skip header\n",
    "\n",
    "    for row in reader:\n",
    "        title, location, lat, lon = row\n",
    "        lat, lon = float(lat), float(lon)\n",
    "        \n",
    "        jitter_scale = 0.3\n",
    "        lat += random.uniform(-jitter_scale, jitter_scale)\n",
    "        lon += random.uniform(-jitter_scale, jitter_scale)\n",
    "\n",
    "        # Create a custom icon\n",
    "        custom_icon = folium.CustomIcon(icon_image=\"museum_icon3.png\", icon_size=(23, 30))\n",
    "\n",
    "        # Add a marker with popup and tooltip\n",
    "        folium.Marker(\n",
    "            location=[lat, lon],\n",
    "            popup=f\"<b>{title}</b><br>{location}\",\n",
    "            tooltip=title,\n",
    "            icon=custom_icon\n",
    "        ).add_to(m)\n",
    "\n",
    "# Save the map as an HTML file\n",
    "m.save(\"exhibition_map.html\")\n"
   ]
  },
  {
   "cell_type": "code",
   "execution_count": null,
   "metadata": {},
   "outputs": [
    {
     "data": {
      "application/vnd.plotly.v1+json": {
       "config": {
        "plotlyServerURL": "https://plot.ly"
       },
       "data": [
        {
         "branchvalues": "total",
         "customdata": [
          [
           300000
          ],
          [
           187030
          ],
          [
           210900
          ],
          [
           505307
          ],
          [
           815992
          ],
          [
           316095
          ],
          [
           187417
          ],
          [
           200000
          ],
          [
           170214
          ],
          [
           753000
          ],
          [
           247833
          ],
          [
           275000
          ],
          [
           254750
          ],
          [
           281687
          ],
          [
           228000
          ],
          [
           341404.72980995674
          ],
          [
           507788.05383788573
          ],
          [
           469600.2277904328
          ]
         ],
         "domain": {
          "x": [
           0,
           1
          ],
          "y": [
           0,
           1
          ]
         },
         "hovertemplate": "labels=%{label}<br>Visitor_sum=%{value}<br>parent=%{parent}<br>id=%{id}<br>Visitor=%{color}<extra></extra>",
         "ids": [
          "2017/Age of Empires: Chinese Art of the Qin and Han Dynasties (221 B.C.–A.D. 220)",
          "2016/Ancient Egypt Transformed: The Middle Kingdom",
          "2016/Artistic Furniture of the Gilded Age",
          "2015/Charles James: Beyond Fashion",
          "2016/China: Through the Looking Glass",
          "2015/Cubism: The Leonard A. Lauder Collection",
          "2015/Death Becomes Her: A Century of Mourning Attire",
          "2017/Jerusalem 1000–1400: Every People Under Heaven",
          "2015/Kimono: A Modern History",
          "2017/Manus x Machina: Fashion in an Age of Technology",
          "2016/Masterpieces of Chinese Painting from The Met Collection",
          "2017/Rei Kawakubo/Comme des Garçons: Art of the In-Between",
          "2016/Sargent: Portraits of Artists and Friends",
          "2015/Thomas Hart Benton’s America Today Mural Rediscovered",
          "2017/Unfinished: Thoughts Left Visible",
          "2015",
          "2016",
          "2017"
         ],
         "labels": [
          "Age of Empires: Chinese Art of the Qin and Han Dynasties (221 B.C.–A.D. 220)",
          "Ancient Egypt Transformed: The Middle Kingdom",
          "Artistic Furniture of the Gilded Age",
          "Charles James: Beyond Fashion",
          "China: Through the Looking Glass",
          "Cubism: The Leonard A. Lauder Collection",
          "Death Becomes Her: A Century of Mourning Attire",
          "Jerusalem 1000–1400: Every People Under Heaven",
          "Kimono: A Modern History",
          "Manus x Machina: Fashion in an Age of Technology",
          "Masterpieces of Chinese Painting from The Met Collection",
          "Rei Kawakubo/Comme des Garçons: Art of the In-Between",
          "Sargent: Portraits of Artists and Friends",
          "Thomas Hart Benton’s America Today Mural Rediscovered",
          "Unfinished: Thoughts Left Visible",
          "2015",
          "2016",
          "2017"
         ],
         "marker": {
          "coloraxis": "coloraxis",
          "colors": [
           300000,
           187030,
           210900,
           505307,
           815992,
           316095,
           187417,
           200000,
           170214,
           753000,
           247833,
           275000,
           254750,
           281687,
           228000,
           341404.72980995674,
           507788.05383788573,
           469600.2277904328
          ]
         },
         "name": "",
         "parents": [
          "2017",
          "2016",
          "2016",
          "2015",
          "2016",
          "2015",
          "2015",
          "2017",
          "2015",
          "2017",
          "2016",
          "2017",
          "2016",
          "2015",
          "2017",
          "",
          "",
          ""
         ],
         "type": "treemap",
         "values": [
          300000,
          187030,
          210900,
          505307,
          815992,
          316095,
          187417,
          200000,
          170214,
          753000,
          247833,
          275000,
          254750,
          281687,
          228000,
          1460720,
          1716505,
          1756000
         ]
        }
       ],
       "layout": {
        "coloraxis": {
         "colorbar": {
          "title": {
           "text": "Visitor"
          }
         },
         "colorscale": [
          [
           0,
           "rgb(247,251,255)"
          ],
          [
           0.125,
           "rgb(222,235,247)"
          ],
          [
           0.25,
           "rgb(198,219,239)"
          ],
          [
           0.375,
           "rgb(158,202,225)"
          ],
          [
           0.5,
           "rgb(107,174,214)"
          ],
          [
           0.625,
           "rgb(66,146,198)"
          ],
          [
           0.75,
           "rgb(33,113,181)"
          ],
          [
           0.875,
           "rgb(8,81,156)"
          ],
          [
           1,
           "rgb(8,48,107)"
          ]
         ]
        },
        "legend": {
         "tracegroupgap": 0
        },
        "margin": {
         "t": 60
        },
        "template": {
         "data": {
          "bar": [
           {
            "error_x": {
             "color": "#2a3f5f"
            },
            "error_y": {
             "color": "#2a3f5f"
            },
            "marker": {
             "line": {
              "color": "#E5ECF6",
              "width": 0.5
             },
             "pattern": {
              "fillmode": "overlay",
              "size": 10,
              "solidity": 0.2
             }
            },
            "type": "bar"
           }
          ],
          "barpolar": [
           {
            "marker": {
             "line": {
              "color": "#E5ECF6",
              "width": 0.5
             },
             "pattern": {
              "fillmode": "overlay",
              "size": 10,
              "solidity": 0.2
             }
            },
            "type": "barpolar"
           }
          ],
          "carpet": [
           {
            "aaxis": {
             "endlinecolor": "#2a3f5f",
             "gridcolor": "white",
             "linecolor": "white",
             "minorgridcolor": "white",
             "startlinecolor": "#2a3f5f"
            },
            "baxis": {
             "endlinecolor": "#2a3f5f",
             "gridcolor": "white",
             "linecolor": "white",
             "minorgridcolor": "white",
             "startlinecolor": "#2a3f5f"
            },
            "type": "carpet"
           }
          ],
          "choropleth": [
           {
            "colorbar": {
             "outlinewidth": 0,
             "ticks": ""
            },
            "type": "choropleth"
           }
          ],
          "contour": [
           {
            "colorbar": {
             "outlinewidth": 0,
             "ticks": ""
            },
            "colorscale": [
             [
              0,
              "#0d0887"
             ],
             [
              0.1111111111111111,
              "#46039f"
             ],
             [
              0.2222222222222222,
              "#7201a8"
             ],
             [
              0.3333333333333333,
              "#9c179e"
             ],
             [
              0.4444444444444444,
              "#bd3786"
             ],
             [
              0.5555555555555556,
              "#d8576b"
             ],
             [
              0.6666666666666666,
              "#ed7953"
             ],
             [
              0.7777777777777778,
              "#fb9f3a"
             ],
             [
              0.8888888888888888,
              "#fdca26"
             ],
             [
              1,
              "#f0f921"
             ]
            ],
            "type": "contour"
           }
          ],
          "contourcarpet": [
           {
            "colorbar": {
             "outlinewidth": 0,
             "ticks": ""
            },
            "type": "contourcarpet"
           }
          ],
          "heatmap": [
           {
            "colorbar": {
             "outlinewidth": 0,
             "ticks": ""
            },
            "colorscale": [
             [
              0,
              "#0d0887"
             ],
             [
              0.1111111111111111,
              "#46039f"
             ],
             [
              0.2222222222222222,
              "#7201a8"
             ],
             [
              0.3333333333333333,
              "#9c179e"
             ],
             [
              0.4444444444444444,
              "#bd3786"
             ],
             [
              0.5555555555555556,
              "#d8576b"
             ],
             [
              0.6666666666666666,
              "#ed7953"
             ],
             [
              0.7777777777777778,
              "#fb9f3a"
             ],
             [
              0.8888888888888888,
              "#fdca26"
             ],
             [
              1,
              "#f0f921"
             ]
            ],
            "type": "heatmap"
           }
          ],
          "heatmapgl": [
           {
            "colorbar": {
             "outlinewidth": 0,
             "ticks": ""
            },
            "colorscale": [
             [
              0,
              "#0d0887"
             ],
             [
              0.1111111111111111,
              "#46039f"
             ],
             [
              0.2222222222222222,
              "#7201a8"
             ],
             [
              0.3333333333333333,
              "#9c179e"
             ],
             [
              0.4444444444444444,
              "#bd3786"
             ],
             [
              0.5555555555555556,
              "#d8576b"
             ],
             [
              0.6666666666666666,
              "#ed7953"
             ],
             [
              0.7777777777777778,
              "#fb9f3a"
             ],
             [
              0.8888888888888888,
              "#fdca26"
             ],
             [
              1,
              "#f0f921"
             ]
            ],
            "type": "heatmapgl"
           }
          ],
          "histogram": [
           {
            "marker": {
             "pattern": {
              "fillmode": "overlay",
              "size": 10,
              "solidity": 0.2
             }
            },
            "type": "histogram"
           }
          ],
          "histogram2d": [
           {
            "colorbar": {
             "outlinewidth": 0,
             "ticks": ""
            },
            "colorscale": [
             [
              0,
              "#0d0887"
             ],
             [
              0.1111111111111111,
              "#46039f"
             ],
             [
              0.2222222222222222,
              "#7201a8"
             ],
             [
              0.3333333333333333,
              "#9c179e"
             ],
             [
              0.4444444444444444,
              "#bd3786"
             ],
             [
              0.5555555555555556,
              "#d8576b"
             ],
             [
              0.6666666666666666,
              "#ed7953"
             ],
             [
              0.7777777777777778,
              "#fb9f3a"
             ],
             [
              0.8888888888888888,
              "#fdca26"
             ],
             [
              1,
              "#f0f921"
             ]
            ],
            "type": "histogram2d"
           }
          ],
          "histogram2dcontour": [
           {
            "colorbar": {
             "outlinewidth": 0,
             "ticks": ""
            },
            "colorscale": [
             [
              0,
              "#0d0887"
             ],
             [
              0.1111111111111111,
              "#46039f"
             ],
             [
              0.2222222222222222,
              "#7201a8"
             ],
             [
              0.3333333333333333,
              "#9c179e"
             ],
             [
              0.4444444444444444,
              "#bd3786"
             ],
             [
              0.5555555555555556,
              "#d8576b"
             ],
             [
              0.6666666666666666,
              "#ed7953"
             ],
             [
              0.7777777777777778,
              "#fb9f3a"
             ],
             [
              0.8888888888888888,
              "#fdca26"
             ],
             [
              1,
              "#f0f921"
             ]
            ],
            "type": "histogram2dcontour"
           }
          ],
          "mesh3d": [
           {
            "colorbar": {
             "outlinewidth": 0,
             "ticks": ""
            },
            "type": "mesh3d"
           }
          ],
          "parcoords": [
           {
            "line": {
             "colorbar": {
              "outlinewidth": 0,
              "ticks": ""
             }
            },
            "type": "parcoords"
           }
          ],
          "pie": [
           {
            "automargin": true,
            "type": "pie"
           }
          ],
          "scatter": [
           {
            "fillpattern": {
             "fillmode": "overlay",
             "size": 10,
             "solidity": 0.2
            },
            "type": "scatter"
           }
          ],
          "scatter3d": [
           {
            "line": {
             "colorbar": {
              "outlinewidth": 0,
              "ticks": ""
             }
            },
            "marker": {
             "colorbar": {
              "outlinewidth": 0,
              "ticks": ""
             }
            },
            "type": "scatter3d"
           }
          ],
          "scattercarpet": [
           {
            "marker": {
             "colorbar": {
              "outlinewidth": 0,
              "ticks": ""
             }
            },
            "type": "scattercarpet"
           }
          ],
          "scattergeo": [
           {
            "marker": {
             "colorbar": {
              "outlinewidth": 0,
              "ticks": ""
             }
            },
            "type": "scattergeo"
           }
          ],
          "scattergl": [
           {
            "marker": {
             "colorbar": {
              "outlinewidth": 0,
              "ticks": ""
             }
            },
            "type": "scattergl"
           }
          ],
          "scattermapbox": [
           {
            "marker": {
             "colorbar": {
              "outlinewidth": 0,
              "ticks": ""
             }
            },
            "type": "scattermapbox"
           }
          ],
          "scatterpolar": [
           {
            "marker": {
             "colorbar": {
              "outlinewidth": 0,
              "ticks": ""
             }
            },
            "type": "scatterpolar"
           }
          ],
          "scatterpolargl": [
           {
            "marker": {
             "colorbar": {
              "outlinewidth": 0,
              "ticks": ""
             }
            },
            "type": "scatterpolargl"
           }
          ],
          "scatterternary": [
           {
            "marker": {
             "colorbar": {
              "outlinewidth": 0,
              "ticks": ""
             }
            },
            "type": "scatterternary"
           }
          ],
          "surface": [
           {
            "colorbar": {
             "outlinewidth": 0,
             "ticks": ""
            },
            "colorscale": [
             [
              0,
              "#0d0887"
             ],
             [
              0.1111111111111111,
              "#46039f"
             ],
             [
              0.2222222222222222,
              "#7201a8"
             ],
             [
              0.3333333333333333,
              "#9c179e"
             ],
             [
              0.4444444444444444,
              "#bd3786"
             ],
             [
              0.5555555555555556,
              "#d8576b"
             ],
             [
              0.6666666666666666,
              "#ed7953"
             ],
             [
              0.7777777777777778,
              "#fb9f3a"
             ],
             [
              0.8888888888888888,
              "#fdca26"
             ],
             [
              1,
              "#f0f921"
             ]
            ],
            "type": "surface"
           }
          ],
          "table": [
           {
            "cells": {
             "fill": {
              "color": "#EBF0F8"
             },
             "line": {
              "color": "white"
             }
            },
            "header": {
             "fill": {
              "color": "#C8D4E3"
             },
             "line": {
              "color": "white"
             }
            },
            "type": "table"
           }
          ]
         },
         "layout": {
          "annotationdefaults": {
           "arrowcolor": "#2a3f5f",
           "arrowhead": 0,
           "arrowwidth": 1
          },
          "autotypenumbers": "strict",
          "coloraxis": {
           "colorbar": {
            "outlinewidth": 0,
            "ticks": ""
           }
          },
          "colorscale": {
           "diverging": [
            [
             0,
             "#8e0152"
            ],
            [
             0.1,
             "#c51b7d"
            ],
            [
             0.2,
             "#de77ae"
            ],
            [
             0.3,
             "#f1b6da"
            ],
            [
             0.4,
             "#fde0ef"
            ],
            [
             0.5,
             "#f7f7f7"
            ],
            [
             0.6,
             "#e6f5d0"
            ],
            [
             0.7,
             "#b8e186"
            ],
            [
             0.8,
             "#7fbc41"
            ],
            [
             0.9,
             "#4d9221"
            ],
            [
             1,
             "#276419"
            ]
           ],
           "sequential": [
            [
             0,
             "#0d0887"
            ],
            [
             0.1111111111111111,
             "#46039f"
            ],
            [
             0.2222222222222222,
             "#7201a8"
            ],
            [
             0.3333333333333333,
             "#9c179e"
            ],
            [
             0.4444444444444444,
             "#bd3786"
            ],
            [
             0.5555555555555556,
             "#d8576b"
            ],
            [
             0.6666666666666666,
             "#ed7953"
            ],
            [
             0.7777777777777778,
             "#fb9f3a"
            ],
            [
             0.8888888888888888,
             "#fdca26"
            ],
            [
             1,
             "#f0f921"
            ]
           ],
           "sequentialminus": [
            [
             0,
             "#0d0887"
            ],
            [
             0.1111111111111111,
             "#46039f"
            ],
            [
             0.2222222222222222,
             "#7201a8"
            ],
            [
             0.3333333333333333,
             "#9c179e"
            ],
            [
             0.4444444444444444,
             "#bd3786"
            ],
            [
             0.5555555555555556,
             "#d8576b"
            ],
            [
             0.6666666666666666,
             "#ed7953"
            ],
            [
             0.7777777777777778,
             "#fb9f3a"
            ],
            [
             0.8888888888888888,
             "#fdca26"
            ],
            [
             1,
             "#f0f921"
            ]
           ]
          },
          "colorway": [
           "#636efa",
           "#EF553B",
           "#00cc96",
           "#ab63fa",
           "#FFA15A",
           "#19d3f3",
           "#FF6692",
           "#B6E880",
           "#FF97FF",
           "#FECB52"
          ],
          "font": {
           "color": "#2a3f5f"
          },
          "geo": {
           "bgcolor": "white",
           "lakecolor": "white",
           "landcolor": "#E5ECF6",
           "showlakes": true,
           "showland": true,
           "subunitcolor": "white"
          },
          "hoverlabel": {
           "align": "left"
          },
          "hovermode": "closest",
          "mapbox": {
           "style": "light"
          },
          "paper_bgcolor": "white",
          "plot_bgcolor": "#E5ECF6",
          "polar": {
           "angularaxis": {
            "gridcolor": "white",
            "linecolor": "white",
            "ticks": ""
           },
           "bgcolor": "#E5ECF6",
           "radialaxis": {
            "gridcolor": "white",
            "linecolor": "white",
            "ticks": ""
           }
          },
          "scene": {
           "xaxis": {
            "backgroundcolor": "#E5ECF6",
            "gridcolor": "white",
            "gridwidth": 2,
            "linecolor": "white",
            "showbackground": true,
            "ticks": "",
            "zerolinecolor": "white"
           },
           "yaxis": {
            "backgroundcolor": "#E5ECF6",
            "gridcolor": "white",
            "gridwidth": 2,
            "linecolor": "white",
            "showbackground": true,
            "ticks": "",
            "zerolinecolor": "white"
           },
           "zaxis": {
            "backgroundcolor": "#E5ECF6",
            "gridcolor": "white",
            "gridwidth": 2,
            "linecolor": "white",
            "showbackground": true,
            "ticks": "",
            "zerolinecolor": "white"
           }
          },
          "shapedefaults": {
           "line": {
            "color": "#2a3f5f"
           }
          },
          "ternary": {
           "aaxis": {
            "gridcolor": "white",
            "linecolor": "white",
            "ticks": ""
           },
           "baxis": {
            "gridcolor": "white",
            "linecolor": "white",
            "ticks": ""
           },
           "bgcolor": "#E5ECF6",
           "caxis": {
            "gridcolor": "white",
            "linecolor": "white",
            "ticks": ""
           }
          },
          "title": {
           "x": 0.05
          },
          "xaxis": {
           "automargin": true,
           "gridcolor": "white",
           "linecolor": "white",
           "ticks": "",
           "title": {
            "standoff": 15
           },
           "zerolinecolor": "white",
           "zerolinewidth": 2
          },
          "yaxis": {
           "automargin": true,
           "gridcolor": "white",
           "linecolor": "white",
           "ticks": "",
           "title": {
            "standoff": 15
           },
           "zerolinecolor": "white",
           "zerolinewidth": 2
          }
         }
        }
       }
      }
     },
     "metadata": {},
     "output_type": "display_data"
    }
   ],
   "source": [
    "# Create a treemap using popularexhibitions.csv\n",
    "\n",
    "df = pd.read_csv(\"popularexhibitions.csv\")\n",
    "df[\"Year\"] = df[\"Year\"].astype(str)\n",
    "\n",
    "fig = px.treemap(df,\n",
    "                path=['Year', 'Title'],  # Hierarchy: Year → Exhibition Title\n",
    "                values='Visitor',\n",
    "                color='Visitor',  # Color based on visitor count for gradient effect\n",
    "                color_continuous_scale='Blues'  # Change to another scale if preferred\n",
    "                )\n",
    "  \n",
    "\n",
    "# Show the plot\n",
    "fig.show()"
   ]
  },
  {
   "cell_type": "code",
   "execution_count": null,
   "metadata": {},
   "outputs": [],
   "source": []
  }
 ],
 "metadata": {
  "kernelspec": {
   "display_name": "digs20004",
   "language": "python",
   "name": "python3"
  },
  "language_info": {
   "codemirror_mode": {
    "name": "ipython",
    "version": 3
   },
   "file_extension": ".py",
   "mimetype": "text/x-python",
   "name": "python",
   "nbconvert_exporter": "python",
   "pygments_lexer": "ipython3",
   "version": "3.12.6"
  }
 },
 "nbformat": 4,
 "nbformat_minor": 2
}

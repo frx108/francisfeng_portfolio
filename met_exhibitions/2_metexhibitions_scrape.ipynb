{
 "cells": [
  {
   "cell_type": "markdown",
   "metadata": {},
   "source": [
    "### Scraping Exhibition Information from the MET's Website"
   ]
  },
  {
   "cell_type": "code",
   "execution_count": null,
   "metadata": {},
   "outputs": [],
   "source": [
    "# Install and import packages\n",
    "\n",
    "import requests\n",
    "from bs4 import BeautifulSoup\n",
    "import csv\n",
    "import time"
   ]
  },
  {
   "cell_type": "code",
   "execution_count": 2,
   "metadata": {},
   "outputs": [],
   "source": [
    "# Base URL for the museum site (used to build full URLs for relative links)\n",
    "base_url = \"https://www.metmuseum.org\"\n",
    "exhibitions_base_url = f\"{base_url}/exhibitions/past\""
   ]
  },
  {
   "cell_type": "code",
   "execution_count": 3,
   "metadata": {},
   "outputs": [],
   "source": [
    "# The range of years to scrape (10 years for the sake of the test)\n",
    "years = range(2015, 2025)"
   ]
  },
  {
   "cell_type": "code",
   "execution_count": 4,
   "metadata": {},
   "outputs": [],
   "source": [
    "with open(\"metexhibitions_2015-2024.csv\", \"w\", newline=\"\", encoding=\"utf-8\") as csvfile:\n",
    "    writer = csv.writer(csvfile)\n",
    "    writer.writerow([\"Year\", \"Title\", \"Duration\", \"URL\", \"Description\"])\n",
    "\n",
    "    for year in years:\n",
    "        url = f\"{exhibitions_base_url}?year={year}\"\n",
    "        response = requests.get(url)\n",
    "        soup = BeautifulSoup(response.text, 'html.parser')\n",
    "\n",
    "        cards = soup.find_all(\"article\", class_=\"exhibition-card_exhibitionCard__I9gVC\")\n",
    "\n",
    "        for card in cards:\n",
    "            # Extract title\n",
    "            title_div = card.find(\"div\", class_=\"exhibition-card_title__cZvmM\")\n",
    "            title = title_div.get_text(strip=True) if title_div else \"No Title\"\n",
    "            \n",
    "            # Extract the exhibition duration\n",
    "            meta_div = card.find(\"div\", class_=\"exhibition-card_meta__T_lev\")\n",
    "            meta = meta_div.get_text(strip=True) if meta_div else \"No Duration Info\"\n",
    "            \n",
    "            # Extract the link to the specific exhibition\n",
    "            link_tag = card.find(\"a\", class_=\"redundant-link_redundantlink__b5TFR\")\n",
    "            if link_tag and link_tag.get(\"href\"):\n",
    "                link = link_tag[\"href\"]\n",
    "                if link.startswith(\"/\"):\n",
    "                    detail_url = base_url + link\n",
    "                else:\n",
    "                    detail_url = link\n",
    "            else:\n",
    "                detail_url = None\n",
    "\n",
    "            # Request the exhibition detail page to get the description\n",
    "            description = \"\"\n",
    "            if detail_url:\n",
    "                detail_response = requests.get(detail_url)\n",
    "                detail_soup = BeautifulSoup(detail_response.text, \"html.parser\")\n",
    "                desc_div = detail_soup.find(\"div\", class_=\"content-split_main__DCqV5\")\n",
    "                if desc_div:\n",
    "                    unwanted_selectors = [\n",
    "                        \"audio\",       # Remove any <audio> tags\n",
    "                        \"iframe\",      # Remove any <iframe> tags\n",
    "                        \"div.image_imageWrapper__uRT0B\",   # Remove image wrappers\n",
    "                        \"div.audio-player_transcriptSection__AdfMG\"  # Remove transcript sections\n",
    "                    ]\n",
    "\n",
    "                    for selector in unwanted_selectors:\n",
    "                        for unwanted in desc_div.select(selector):\n",
    "                            unwanted.decompose()\n",
    "    \n",
    "                    paragraphs = desc_div.find_all(\"p\")\n",
    "                    description = \" \".join(p.get_text(strip=True) for p in paragraphs)\n",
    "                \n",
    "                elif detail_soup.find(\"div\", class_=\"rich-text\"): # The second type of HTML structure that contains the descriptions\n",
    "                        rich_text_divs = detail_soup.find_all(\"div\", class_=\"rich-text\")\n",
    "                        if rich_text_divs:\n",
    "                            description = \" \".join(rt.get_text(separator=\" \", strip=True) for rt in rich_text_divs)\n",
    "                        else:\n",
    "                            description = \"No Description Found\"\n",
    "                \n",
    "                else:\n",
    "                    description = \"No Description Found\"\n",
    "                time.sleep(1)\n",
    "            \n",
    "            else:\n",
    "                detail_url = \"No URL\"\n",
    "                description = \"No Link, so no description\"\n",
    "\n",
    "\n",
    "            writer.writerow([year, title, meta, detail_url, description])"
   ]
  }
 ],
 "metadata": {
  "kernelspec": {
   "display_name": "digs20004",
   "language": "python",
   "name": "python3"
  },
  "language_info": {
   "codemirror_mode": {
    "name": "ipython",
    "version": 3
   },
   "file_extension": ".py",
   "mimetype": "text/x-python",
   "name": "python",
   "nbconvert_exporter": "python",
   "pygments_lexer": "ipython3",
   "version": "3.12.6"
  }
 },
 "nbformat": 4,
 "nbformat_minor": 2
}

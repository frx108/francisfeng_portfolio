{
 "cells": [
  {
   "cell_type": "markdown",
   "metadata": {},
   "source": [
    "### PCA Analysis on the MET Exhibitions\n",
    "\n",
    "- This PCA test analyzes 718 MET exhbitions from 2015 to 2024. The exhibition data come from the Metropolitan Museum of Art's official website: https://www.metmuseum.org/exhibitions/past\n",
    "- After reduced to two dimensions, the exhibitions are grouped into 10 clusters. Each cluster is color-coded. Some clusters are more interpretable than the others (e.g. cluster 4 is about \"sports\"; cluster 7 is about \"Christmas\"), and some are harder to tell what they are about. The number of clusters needs to be further adjusted to get the optimum clustering.\n",
    "- A zoom-in function is further defined so that the user can take a closer look at each cluster and the exhibitions within it. In the zoom-in view, the year of an exhibition is color-coded (though this might cause confusion due to the previous color-encoding for clusters).\n",
    "- Outliers could be taken out so that the PCA plot looks more spread out. Instead of using numbers to represent the clusters, specific category names could be applied to each cluster."
   ]
  },
  {
   "cell_type": "code",
   "execution_count": null,
   "metadata": {},
   "outputs": [],
   "source": [
    "# Install and import packages\n",
    "\n",
    "import pandas as pd\n",
    "import plotly.express as px\n",
    "import matplotlib.pyplot as plt\n",
    "from sklearn.decomposition import PCA\n",
    "from sklearn.feature_extraction.text import TfidfVectorizer\n",
    "from sklearn.cluster import KMeans\n",
    "import numpy as np"
   ]
  },
  {
   "cell_type": "code",
   "execution_count": 2,
   "metadata": {},
   "outputs": [],
   "source": [
    "df = pd.read_csv(\"metexhibitions_2015-2024_pos.csv\")"
   ]
  },
  {
   "cell_type": "code",
   "execution_count": null,
   "metadata": {},
   "outputs": [],
   "source": [
    "# Transform the data frame to lists\n",
    "\n",
    "df = df.dropna(subset=[\"Description_filtered\", \"Title\"])\n",
    "documents = df[\"Description_filtered\"].tolist()\n",
    "titles = df[\"Title\"].tolist()\n",
    "years = df[\"Year\"].astype(str).tolist()"
   ]
  },
  {
   "cell_type": "code",
   "execution_count": null,
   "metadata": {},
   "outputs": [],
   "source": [
    "# TF-IDF vectorize the filtered descriptions\n",
    "\n",
    "vectorizer = TfidfVectorizer(stop_words='english', max_features=5000)\n",
    "tfidf_matrix = vectorizer.fit_transform(documents)"
   ]
  },
  {
   "cell_type": "code",
   "execution_count": 5,
   "metadata": {},
   "outputs": [],
   "source": [
    "tfidf_dense = tfidf_matrix.toarray()"
   ]
  },
  {
   "cell_type": "code",
   "execution_count": null,
   "metadata": {},
   "outputs": [],
   "source": [
    "# Fit the PCA model\n",
    "\n",
    "pca = PCA(n_components=2)\n",
    "pca_result = pca.fit_transform(tfidf_dense)"
   ]
  },
  {
   "cell_type": "code",
   "execution_count": null,
   "metadata": {},
   "outputs": [],
   "source": [
    "# Select cluster quantity\n",
    "\n",
    "num_clusters = 10\n",
    "kmeans = KMeans(n_clusters=num_clusters, random_state=42, n_init=10)\n",
    "cluster_labels = kmeans.fit_predict(pca_result)"
   ]
  },
  {
   "cell_type": "code",
   "execution_count": null,
   "metadata": {},
   "outputs": [],
   "source": [
    "# Create a PCA data frame\n",
    "\n",
    "pca_df = pd.DataFrame({\n",
    "    \"PCA1\": pca_result[:, 0],\n",
    "    \"PCA2\": pca_result[:, 1],\n",
    "    \"Cluster\": cluster_labels,\n",
    "    \"Year\": years,\n",
    "    \"Title\": titles\n",
    "})"
   ]
  },
  {
   "cell_type": "code",
   "execution_count": null,
   "metadata": {},
   "outputs": [
    {
     "data": {
      "application/vnd.plotly.v1+json": {
       "config": {
        "plotlyServerURL": "https://plot.ly"
       },
       "data": [
        {
         "customdata": [
          [
           "Sol LeWitt:Wall Drawing #370",
           "2015"
          ],
          [
           "Korea",
           "2015"
          ],
          [
           "Pattern, Color, Light",
           "2015"
          ],
          [
           "Drawings and Prints",
           "2015"
          ],
          [
           "Painting with Threads",
           "2015"
          ],
          [
           "Robert Motherwell",
           "2015"
          ],
          [
           "Drawings and Prints",
           "2015"
          ],
          [
           "Tullio Lombardo'sAdam",
           "2015"
          ],
          [
           "The Plains Indians",
           "2015"
          ],
          [
           "Thomas Hart Benton'sAmerica TodayMural Rediscovered",
           "2015"
          ],
          [
           "Grand Design",
           "2015"
          ],
          [
           "Sol LeWitt:Wall Drawing #370",
           "2016"
          ],
          [
           "Turner's Whaling Pictures",
           "2016"
          ],
          [
           "Richard Tuttle:The Critical Edge",
           "2016"
          ],
          [
           "Korea",
           "2016"
          ],
          [
           "Pattern, Color, Light",
           "2016"
          ],
          [
           "Drawings and Prints",
           "2016"
          ],
          [
           "The Face of Dynasty: Royal Crests from Western Cameroon",
           "2017"
          ],
          [
           "Selections from the Department of Drawings and Prints: Lagoons to Monsoons",
           "2017"
          ],
          [
           "Sol LeWitt:Wall Drawing #370",
           "2017"
          ],
          [
           "Cristóbal de Villalpando: Mexican Painter of the Baroque",
           "2017"
          ],
          [
           "American Indian Art from the Fenimore Art Museum: The Thaw Collection",
           "2017"
          ],
          [
           "Rei Kawakubo/Comme des Garçons: Art of the In-Between",
           "2017"
          ],
          [
           "Drawings and Prints: Selections from The Met Collection",
           "2017"
          ],
          [
           "Marisa Merz: The Sky Is a Great Space",
           "2017"
          ],
          [
           "In Praise of Painting: Dutch Masterpieces at The Met",
           "2018"
          ],
          [
           "Children to Immortals: Figural Representations in Chinese Art",
           "2018"
          ],
          [
           "Seeing the Divine: Pahari Painting of North India",
           "2018"
          ],
          [
           "Julio Le Parc 1959",
           "2018"
          ],
          [
           "Selections from the Department of Drawings and Prints: Hidden and Displayed",
           "2018"
          ],
          [
           "Chippendale'sDirector: The Designs and Legacy of a Furniture Maker",
           "2018"
          ],
          [
           "Selections from the Department of Drawings and Prints: Journeys",
           "2018"
          ],
          [
           "The Face of Dynasty: Royal Crests from Western Cameroon",
           "2018"
          ],
          [
           "Painted in Mexico, 1700–1790:Pinxit Mexici",
           "2018"
          ],
          [
           "Selections from the Department of Drawings and Prints: Lagoons to Monsoons",
           "2018"
          ],
          [
           "Sol LeWitt:Wall Drawing #370",
           "2018"
          ],
          [
           "In Praise of Painting: Dutch Masterpieces at The Met",
           "2019"
          ],
          [
           "Arte del mar: Artistic Exchange in the Caribbean",
           "2019"
          ],
          [
           "Children to Immortals: Figural Representations in Chinese Art",
           "2019"
          ],
          [
           "The Facade Commission: Wangechi Mutu,The NewOnes, will free Us",
           "2019"
          ],
          [
           "Selections from the Department of Drawings and Prints: The Wrightsman Legacy",
           "2019"
          ],
          [
           "Selections from the Department of Drawings and Prints: Brewster & Co.",
           "2019"
          ],
          [
           "Leonardo da Vinci'sSaint Jerome",
           "2019"
          ],
          [
           "Phenomenal Nature: Mrinalini Mukherjee",
           "2019"
          ],
          [
           "Ragnar Kjartansson,Death Is Elsewhere",
           "2019"
          ],
          [
           "Seeing the Divine: Pahari Painting of North India",
           "2019"
          ],
          [
           "Selections from the Department of Drawings and Prints: Leonardo da Vinci",
           "2019"
          ],
          [
           "Julio Le Parc 1959",
           "2019"
          ],
          [
           "Selections from the Department of Drawings and Prints: Hidden and Displayed",
           "2019"
          ],
          [
           "Chippendale'sDirector: The Designs and Legacy of a Furniture Maker",
           "2019"
          ],
          [
           "In Praise of Painting: Dutch Masterpieces at The Met",
           "2020"
          ],
          [
           "A New Look at Old Masters",
           "2020"
          ],
          [
           "Arte del mar: Artistic Exchange in the Caribbean",
           "2020"
          ],
          [
           "Selections from the Department of Drawings and Prints: Anniversary Highlights",
           "2020"
          ],
          [
           "Children to Immortals: Figural Representations in Chinese Art",
           "2020"
          ],
          [
           "Making The Met, 1870–2020",
           "2020"
          ],
          [
           "The Facade Commission: Wangechi Mutu,The NewOnes, will free Us",
           "2020"
          ],
          [
           "Selections from the Department of Drawings and Prints: The Wrightsman Legacy",
           "2020"
          ],
          [
           "In Praise of Painting: Dutch Masterpieces at The Met",
           "2021"
          ],
          [
           "A New Look at Old Masters",
           "2021"
          ],
          [
           "Companions in Solitude: Reclusion and Communion in Chinese Art",
           "2021"
          ],
          [
           "Masters and Masterpieces: Chinese Art from the Florence and Herbert Irving Collection",
           "2021"
          ],
          [
           "Japan: A History of Style",
           "2021"
          ],
          [
           "The Roof Garden Commission: Alex Da Corte,As Long as the Sun Lasts",
           "2021"
          ],
          [
           "The Facade Commission: Carol Bove,The séances aren’t helping",
           "2021"
          ],
          [
           "Selections from the Department of Drawings and Prints: Materials and Techniques",
           "2021"
          ],
          [
           "Arte del mar: Artistic Exchange in the Caribbean",
           "2021"
          ],
          [
           "Selections from the Department of Drawings and Prints: New York Inspired",
           "2021"
          ],
          [
           "Selections from the Department of Drawings and Prints: Anniversary Highlights",
           "2021"
          ],
          [
           "Children to Immortals: Figural Representations in Chinese Art",
           "2021"
          ],
          [
           "Making The Met, 1870–2020",
           "2021"
          ],
          [
           "Victorian Masterpieces from the Museo de Arte de Ponce, Puerto Rico",
           "2022"
          ],
          [
           "In Praise of Painting: Dutch Masterpieces at The Met",
           "2022"
          ],
          [
           "Lives of the Gods: Divinity in Maya Art",
           "2022"
          ],
          [
           "A New Look at Old Masters",
           "2022"
          ],
          [
           "The Power of Portraiture: Selections from the Department of Drawings and Prints",
           "2022"
          ],
          [
           "Van Gogh, Mondrian, and Munch: Selections from the Department of Drawings and Prints",
           "2022"
          ],
          [
           "Companions in Solitude: Reclusion and Communion in Chinese Art",
           "2022"
          ],
          [
           "Winslow Homer: Crosscurrents",
           "2022"
          ],
          [
           "Masters and Masterpieces: Chinese Art from the Florence and Herbert Irving Collection",
           "2022"
          ],
          [
           "In the Orbit of Jacques Louis David: Selections from the Department of Drawings and Prints",
           "2022"
          ],
          [
           "Japan: A History of Style",
           "2022"
          ],
          [
           "The Facade Commission: Nairy Baghramian,Scratching the Back",
           "2023"
          ],
          [
           "Victorian Masterpieces from the Museo de Arte de Ponce, Puerto Rico",
           "2023"
          ],
          [
           "New Acquisitions in Context: Selections from the Department of Drawings and Prints",
           "2023"
          ],
          [
           "The Roof Garden Commission: Lauren Halsey",
           "2023"
          ],
          [
           "In Praise of Painting: Dutch Masterpieces at The Met",
           "2023"
          ],
          [
           "Light and Tone: Selections from the Department of Drawings and Prints",
           "2023"
          ],
          [
           "Van Gogh's Cypresses",
           "2023"
          ],
          [
           "Innocence and Experience: Selections from the Department of Drawings and Prints",
           "2023"
          ],
          [
           "Lives of the Gods: Divinity in Maya Art",
           "2023"
          ],
          [
           "A New Look at Old Masters",
           "2023"
          ],
          [
           "The Power of Portraiture: Selections from the Department of Drawings and Prints",
           "2023"
          ],
          [
           "Paris through the Eyes of Saint-Aubin",
           "2024"
          ],
          [
           "Mandalas: Mapping the Buddhist Art of Tibet",
           "2024"
          ],
          [
           "Human/Nature: Selections from the Department of Drawings and Prints",
           "2024"
          ],
          [
           "Vision and Verse: The Poetry of Chinese Painting",
           "2024"
          ],
          [
           "The Facade Commission: Nairy Baghramian,Scratching the Back",
           "2024"
          ],
          [
           "Victorian Masterpieces from the Museo de Arte de Ponce, Puerto Rico",
           "2024"
          ]
         ],
         "hovertemplate": "color=7<br>PCA Component 1=%{x}<br>PCA Component 2=%{y}<br>Title=%{customdata[0]}<br>Year=%{customdata[1]}<extra></extra>",
         "legendgroup": "7",
         "marker": {
          "color": "#636efa",
          "symbol": "circle"
         },
         "mode": "markers",
         "name": "7",
         "orientation": "v",
         "showlegend": true,
         "type": "scatter",
         "x": [
          -0.017737887507509598,
          0.007139654575732052,
          -0.003492747108600695,
          0.0038741209072104895,
          0.01844859329239928,
          -0.020720629606858318,
          -0.01744870406994094,
          0.0014969689394927989,
          -0.021242102606185167,
          -0.016857657859858263,
          -0.019631667241024484,
          -0.017737887507509296,
          0.020844775322722928,
          -0.022421555349288972,
          0.007139654575732052,
          -0.003492747108600695,
          0.0038741209072104895,
          0.0032426734085375182,
          -0.019973393344020516,
          -0.017737887507509296,
          0.016727822206159183,
          -0.013668816659777892,
          0.006047292612477246,
          -0.02303131966390866,
          -0.022091689535145977,
          -0.013629972505157966,
          0.004691395287057572,
          -0.014750631158126647,
          -0.018784205263582838,
          0.007075918668003813,
          -0.022069291333038768,
          0.015453642330654462,
          0.0032426734085375182,
          0.02712472800119735,
          -0.019973393344020516,
          -0.017737887507509296,
          -0.013629972505157966,
          -0.00045759805505803135,
          0.004691395287057572,
          -0.013950802506060928,
          0.009074346284129531,
          -0.011008040264979,
          0.00579335721831822,
          -0.012504418054438938,
          0.006720635218280199,
          -0.014750631158126647,
          -0.01956989825583718,
          -0.018784205263582838,
          0.007075918668003813,
          -0.022069291333038768,
          -0.013629972505157966,
          0.03981855547528946,
          -0.00045759805505803135,
          -0.003620885843178297,
          0.004691395287057572,
          -0.005851582176101474,
          -0.013950802506060928,
          0.009074346284129531,
          -0.013629972505157966,
          0.03981855547528946,
          -0.012766872871416144,
          -0.02111821405762371,
          -0.013028337823200814,
          -0.010010314873707885,
          -0.008463500576410824,
          -0.012278585150538477,
          -0.00045759805505803135,
          -0.00044868907782143956,
          -0.003620885843178297,
          0.004691395287057572,
          -0.005851582176101474,
          0.012085500060092496,
          -0.013629972505157966,
          -0.015524754240145098,
          0.03981855547528946,
          0.01575195192221641,
          0.00900823358161946,
          -0.012766872871416144,
          -0.022136879235861856,
          -0.02111821405762371,
          -0.016912306771623704,
          -0.013028337823200814,
          0.0193134488256339,
          0.012085500060092496,
          0.0033364972192158333,
          0.03322779694184645,
          -0.013629972505157966,
          0.003449636363872113,
          0.042540877691039244,
          -0.013820650011440056,
          -0.015524754240145098,
          0.03981855547528946,
          0.01575195192221641,
          -0.01650254099633163,
          -0.0019400315216378395,
          -0.014974614817142892,
          -0.01835621960274419,
          0.0193134488256339,
          0.012085500060092496
         ],
         "xaxis": "x",
         "y": [
          -0.05606394721629379,
          -0.04142558502278553,
          -0.0453968512529518,
          -0.05914919227513594,
          -0.03262584725671045,
          -0.05462120700781126,
          -0.050632893657897714,
          -0.031562625391782714,
          -0.04764428624766241,
          -0.03397295681860725,
          -0.05903015326121227,
          -0.056063947216293764,
          -0.032002813879707215,
          -0.04997310273573746,
          -0.04142558502278553,
          -0.0453968512529518,
          -0.05914919227513594,
          -0.03609335294720933,
          -0.06522992041998084,
          -0.056063947216293764,
          -0.03438080005250717,
          -0.037659564651894704,
          -0.03024961452668515,
          -0.05113247428637577,
          -0.05690148828571475,
          -0.05482556324043538,
          -0.03611564709419025,
          -0.031692287202786676,
          -0.0734825544256074,
          -0.043310369850242336,
          -0.04386624286594105,
          -0.053655141260376286,
          -0.03609335294720933,
          -0.046372377239102536,
          -0.06522992041998084,
          -0.056063947216293764,
          -0.05482556324043538,
          -0.03864103478007286,
          -0.03611564709419025,
          -0.039188503505891634,
          -0.046173931000910634,
          -0.03236197645875429,
          -0.027820990694046786,
          -0.03959319810625607,
          -0.027975373700962706,
          -0.031692287202786676,
          -0.04588939782438581,
          -0.0734825544256074,
          -0.043310369850242336,
          -0.04386624286594105,
          -0.05482556324043538,
          -0.04428004554588005,
          -0.03864103478007286,
          -0.05405828400479087,
          -0.03611564709419025,
          -0.03411182635685874,
          -0.039188503505891634,
          -0.046173931000910634,
          -0.05482556324043538,
          -0.04428004554588005,
          -0.0480579113871286,
          -0.05312920869037613,
          -0.050516796410060155,
          -0.05484709319040106,
          -0.03357329340872371,
          -0.03636530417953059,
          -0.03864103478007286,
          -0.03130726984182521,
          -0.05405828400479087,
          -0.03611564709419025,
          -0.03411182635685874,
          -0.044572875643718236,
          -0.05482556324043538,
          -0.04170851638881377,
          -0.04428004554588005,
          -0.050944058431785774,
          -0.0643311891803748,
          -0.0480579113871286,
          -0.07254224030182076,
          -0.05312920869037613,
          -0.07226881774893648,
          -0.050516796410060155,
          -0.027163216880227978,
          -0.044572875643718236,
          -0.046499858622708924,
          -0.047062548127276546,
          -0.05482556324043538,
          -0.04100713204315549,
          -0.04257458173651663,
          -0.052065963162315904,
          -0.04170851638881377,
          -0.04428004554588005,
          -0.050944058431785774,
          -0.03618246198139205,
          -0.03141603395958714,
          -0.05088219445498419,
          -0.03513879240200009,
          -0.027163216880227978,
          -0.044572875643718236
         ],
         "yaxis": "y"
        },
        {
         "customdata": [
          [
           "Collecting the Arts of Mexico",
           "2015"
          ],
          [
           "Asian Art at 100: A History in Photographs",
           "2015"
          ],
          [
           "Alex Katz at The Met",
           "2015"
          ],
          [
           "Encountering Vishnu",
           "2015"
          ],
          [
           "The Luxury of Time",
           "2015"
          ],
          [
           "The Aftermath of Conflict",
           "2015"
          ],
          [
           "Jacqueline de Ribes",
           "2015"
          ],
          [
           "Grand Illusions",
           "2015"
          ],
          [
           "In and Out of the Studio",
           "2015"
          ],
          [
           "The Royal Hunt",
           "2015"
          ],
          [
           "Captain Linnaeus Tripe",
           "2015"
          ],
          [
           "Ennion",
           "2015"
          ],
          [
           "Late Antique Textiles and Modern Design",
           "2016"
          ],
          [
           "Collecting the Arts of Mexico",
           "2016"
          ],
          [
           "Asian Art at 100: A History in Photographs",
           "2016"
          ],
          [
           "An Artist of Her Time",
           "2016"
          ],
          [
           "Masterworks: Unpacking Fashion",
           "2016"
          ],
          [
           "Faith and Photography: Auguste Salzmann in the Holy Land",
           "2016"
          ],
          [
           "Humor and Fantasy—The Berggruen Paul Klee Collection",
           "2016"
          ],
          [
           "Diane Arbus: In the Beginning",
           "2016"
          ],
          [
           "Alex Katz at The Met",
           "2016"
          ],
          [
           "Dream States",
           "2016"
          ],
          [
           "Encountering Vishnu",
           "2016"
          ],
          [
           "The Power of Prints",
           "2016"
          ],
          [
           "The Luxury of Time",
           "2016"
          ],
          [
           "The Aftermath of Conflict",
           "2016"
          ],
          [
           "Jacqueline de Ribes",
           "2016"
          ],
          [
           "Grand Illusions",
           "2016"
          ],
          [
           "In and Out of the Studio",
           "2016"
          ],
          [
           "Relative Values: The Cost of Art in the Northern Renaissance",
           "2017"
          ],
          [
           "World War I and the Visual Arts",
           "2017"
          ],
          [
           "Frederic Remington at The Met",
           "2017"
          ],
          [
           "Talking Pictures: Camera-Phone Conversations Between Artists",
           "2017"
          ],
          [
           "Late Antique Textiles and Modern Design",
           "2017"
          ],
          [
           "The Secret Life of Textiles: Synthetic Materials",
           "2017"
          ],
          [
           "Collecting the Arts of Mexico",
           "2017"
          ],
          [
           "Paradise of Exiles: Early Photography in Italy",
           "2017"
          ],
          [
           "Asian Art at 100: A History in Photographs",
           "2017"
          ],
          [
           "An Artist of Her Time",
           "2017"
          ],
          [
           "Masterworks: Unpacking Fashion",
           "2017"
          ],
          [
           "Faith and Photography: Auguste Salzmann in the Holy Land",
           "2017"
          ],
          [
           "Humor and Fantasy—The Berggruen Paul Klee Collection",
           "2017"
          ],
          [
           "Relative Values: The Cost of Art in the Northern Renaissance",
           "2018"
          ],
          [
           "Artistic Encounters with Indigenous America",
           "2018"
          ],
          [
           "Jewelry: The Body Transformed",
           "2018"
          ],
          [
           "African American Portraits: Photographs from the 1940s and 1950s",
           "2018"
          ],
          [
           "William Eggleston:Los Alamos",
           "2018"
          ],
          [
           "World War I and the Visual Arts",
           "2018"
          ],
          [
           "Frederic Remington at The Met",
           "2018"
          ],
          [
           "Relative Values: The Cost of Art in the Northern Renaissance",
           "2019"
          ],
          [
           "Rayyane Tabet Alien Property",
           "2019"
          ],
          [
           "2020 Vision: Photographs, 1840s–1860s",
           "2019"
          ],
          [
           "Making Marvels: Science and Splendor at the Courts of Europe",
           "2019"
          ],
          [
           "The Renaissance of Etching",
           "2019"
          ],
          [
           "Apollo's Muse: The Moon in the Age of Photography",
           "2019"
          ],
          [
           "Artistic Encounters with Indigenous America",
           "2019"
          ],
          [
           "Monumental Journey: The Daguerreotypes of Girault de Prangey",
           "2019"
          ],
          [
           "Jewelry: The Body Transformed",
           "2019"
          ],
          [
           "Relative Values: The Cost of Art in the Northern Renaissance",
           "2020"
          ],
          [
           "Rayyane Tabet Alien Property",
           "2020"
          ],
          [
           "Pictures, Revisited",
           "2020"
          ],
          [
           "2020 Vision: Photographs, 1840s–1860s",
           "2020"
          ],
          [
           "Jacob Lawrence: The American Struggle",
           "2020"
          ],
          [
           "Selections from the Department of Drawings and Prints: Collectors' Collections",
           "2020"
          ],
          [
           "Making Marvels: Science and Splendor at the Courts of Europe",
           "2020"
          ],
          [
           "The Renaissance of Etching",
           "2020"
          ],
          [
           "Alter Egos | Projected Selves",
           "2021"
          ],
          [
           "Relative Values: The Cost of Art in the Northern Renaissance",
           "2021"
          ],
          [
           "Modern Times: British Prints, 1913–1939",
           "2021"
          ],
          [
           "The New Woman Behind the Camera",
           "2021"
          ],
          [
           "Shapes from Out of Nowhere: Ceramics from the Robert A. Ellison Jr. Collection",
           "2021"
          ],
          [
           "Rayyane Tabet Alien Property",
           "2021"
          ],
          [
           "Pictures, Revisited",
           "2021"
          ],
          [
           "New York Art Worlds, 1870–1890",
           "2022"
          ],
          [
           "Bernd & Hilla Becher",
           "2022"
          ],
          [
           "Alter Egos | Projected Selves",
           "2022"
          ],
          [
           "Relative Values: The Cost of Art in the Northern Renaissance",
           "2022"
          ],
          [
           "Modern Times: British Prints, 1913–1939",
           "2022"
          ],
          [
           "Don't Forget to Call Your Mother",
           "2023"
          ],
          [
           "New York Art Worlds, 1870–1890",
           "2023"
          ],
          [
           "Proof: Maxime Du Camp’s Photographs of the Eastern Mediterranean and North Africa",
           "2023"
          ],
          [
           "Art for the Millions: American Culture and Politics in the 1930s",
           "2023"
          ],
          [
           "Mexican Prints at the Vanguard",
           "2024"
          ],
          [
           "Collecting Inspiration: Edward C. Moore at Tiffany & Co.",
           "2024"
          ],
          [
           "Don't Forget to Call Your Mother",
           "2024"
          ],
          [
           "The Real Thing: Unpackaging Product Photography",
           "2024"
          ],
          [
           "New York Art Worlds, 1870–1890",
           "2024"
          ],
          [
           "Emulating Books: Book Objects from the Lynn and Bruce Heckman Gift",
           "2024"
          ],
          [
           "The Art of the Literary Poster: Works from the Leonard A. Lauder Collection",
           "2024"
          ],
          [
           "Proof: Maxime Du Camp’s Photographs of the Eastern Mediterranean and North Africa",
           "2024"
          ]
         ],
         "hovertemplate": "color=9<br>PCA Component 1=%{x}<br>PCA Component 2=%{y}<br>Title=%{customdata[0]}<br>Year=%{customdata[1]}<extra></extra>",
         "legendgroup": "9",
         "marker": {
          "color": "#EF553B",
          "symbol": "circle"
         },
         "mode": "markers",
         "name": "9",
         "orientation": "v",
         "showlegend": true,
         "type": "scatter",
         "x": [
          -0.025808063818958227,
          -0.046039042480325525,
          -0.05033402289038753,
          -0.023639688695306766,
          -0.029963814092808617,
          -0.03426513299135998,
          -0.032099580505490555,
          -0.026715284229905614,
          -0.042741933561431356,
          -0.04103316645947639,
          -0.03572453392596119,
          -0.029282837802659122,
          -0.025286670907169167,
          -0.025808063818958223,
          -0.04603904248032551,
          -0.037365051878039984,
          -0.03771049545185085,
          -0.033540854378289395,
          -0.046226443110214184,
          -0.04466198332659148,
          -0.05033402289038753,
          -0.03238836059577294,
          -0.023639688695306766,
          -0.05323411960410237,
          -0.029963814092808617,
          -0.03426513299135998,
          -0.032099580505490555,
          -0.026715284229905614,
          -0.042741933561431356,
          -0.031185846700488556,
          -0.09162468000127552,
          -0.058339919360331845,
          -0.04823899107067568,
          -0.025286670907169167,
          -0.026479631318814492,
          -0.025808063818958223,
          -0.04542475469550148,
          -0.04603904248032551,
          -0.037365051878039984,
          -0.03771049545185085,
          -0.033540854378289395,
          -0.046226443110214184,
          -0.031185846700488556,
          -0.036000950993973414,
          -0.028457484387072678,
          -0.036297774890959186,
          -0.03952344798471312,
          -0.09162468000127552,
          -0.058339919360331845,
          -0.031185846700488556,
          -0.014598209088625535,
          -0.03817734156066525,
          -0.027866603015560813,
          -0.04019780599927473,
          -0.03642450889923714,
          -0.036000950993973414,
          -0.03384259428318032,
          -0.028457484387072678,
          -0.031185846700488556,
          -0.014598209088625535,
          -0.04949430966789091,
          -0.03817734156066525,
          -0.05174058393922815,
          -0.022218854449850733,
          -0.027866603015560813,
          -0.04019780599927473,
          -0.03565593770012973,
          -0.031185846700488556,
          -0.0513552894018734,
          -0.051650452607394634,
          -0.03402795021844675,
          -0.014598209088625535,
          -0.04949430966789091,
          -0.0508584903797107,
          -0.03278462760322029,
          -0.03565593770012973,
          -0.031185846700488556,
          -0.0513552894018734,
          -0.06636738492989233,
          -0.0508584903797107,
          -0.032890296506829654,
          -0.0682986310706331,
          -0.03971624673804882,
          -0.025061961516322943,
          -0.06636738492989233,
          -0.028868936939776036,
          -0.0508584903797107,
          -0.017042393412801015,
          -0.05610816471494702,
          -0.032890296506829654
         ],
         "xaxis": "x",
         "y": [
          -0.00008985713089892437,
          -0.0031204620659455668,
          0.002918580895121902,
          0.0006478549017413334,
          0.0037768992855027645,
          -0.0014370536459817835,
          0.012608425053687826,
          0.03319925012488398,
          0.024888541108579552,
          0.0003528363727848704,
          -0.005889666062156787,
          -0.00309799213040058,
          0.049450031553226255,
          -0.00008985713089880189,
          -0.0031204620659456197,
          -0.011313271253837675,
          0.014827979689672678,
          -0.008739844222232425,
          0.012532855482079452,
          0.017380248045186213,
          0.002918580895121911,
          0.015679468525859743,
          0.0006478549017413334,
          0.017065387000456254,
          0.0037768992855027645,
          -0.0014370536459817835,
          0.012608425053687826,
          0.03319925012488398,
          0.024888541108579552,
          0.005576483278725954,
          0.05658991859545122,
          -0.012275092182324799,
          -0.012912305444630562,
          0.049450031553226255,
          0.011452489573022376,
          -0.00008985713089880189,
          0.03292956096716319,
          -0.0031204620659456197,
          -0.011313271253837675,
          0.014827979689672678,
          -0.008739844222232425,
          0.012532855482079452,
          0.005576483278725954,
          -0.00993638473528802,
          -0.011412022240683972,
          0.0038486390081768716,
          -0.010053389191996095,
          0.05658991859545122,
          -0.012275092182324799,
          0.005576483278725954,
          0.019882566336899284,
          0.002388368623648732,
          -0.007485734712405295,
          0.0018272677930233985,
          -0.009107831249812456,
          -0.00993638473528802,
          0.001363956639690176,
          -0.011412022240683972,
          0.005576483278725954,
          0.019882566336899284,
          0.00026665980350355117,
          0.002388368623648732,
          -0.011609511032127305,
          0.05753013934437826,
          -0.007485734712405295,
          0.0018272677930233985,
          0.00401803717453808,
          0.005576483278725954,
          -0.0014722190723300606,
          -0.0005835452259718225,
          -0.011933372270591922,
          0.019882566336899284,
          0.00026665980350355117,
          -0.012120667402703806,
          0.008865153774617327,
          0.00401803717453808,
          0.005576483278725954,
          -0.0014722190723300606,
          -0.00007338726636434325,
          -0.012120667402703806,
          0.00642588053345673,
          -0.013574532331251374,
          -0.006602090241511882,
          0.008157802005841668,
          -0.00007338726636434325,
          0.02890595314503671,
          -0.012120667402703806,
          0.030814871432219473,
          0.007029543601202795,
          0.00642588053345673
         ],
         "yaxis": "y"
        },
        {
         "customdata": [
          [
           "Celebrating the Arts of Japan",
           "2015"
          ],
          [
           "Phil Collins:how to make a refugee",
           "2015"
          ],
          [
           "New Discoveries: Early Liturgical Textiles from Egypt, 200–400",
           "2015"
          ],
          [
           "Reconstructions",
           "2015"
          ],
          [
           "Girolamo dai Libri and Veronese Art of the Sixteenth Century",
           "2015"
          ],
          [
           "Wolfgang Tillmans",
           "2015"
          ],
          [
           "Hungarian Treasure",
           "2015"
          ],
          [
           "Discovering Japanese Art",
           "2015"
          ],
          [
           "Warriors and Mothers",
           "2015"
          ],
          [
           "Maurice Prendergast",
           "2015"
          ],
          [
           "Sumptuous",
           "2015"
          ],
          [
           "Sacred Traditions of the Himalayas",
           "2015"
          ],
          [
           "Bazm and Razm",
           "2015"
          ],
          [
           "Innovation and Spectacle",
           "2015"
          ],
          [
           "Making Pottery Art",
           "2015"
          ],
          [
           "Colors of the Universe",
           "2015"
          ],
          [
           "The Winchester Bible",
           "2015"
          ],
          [
           "Thomas Struth",
           "2015"
          ],
          [
           "Amie Siegel:Provenance",
           "2015"
          ],
          [
           "Arms and Armor from the Islamic World",
           "2016"
          ],
          [
           "Colors of the Universe: Chinese Hardstone Carvings",
           "2016"
          ],
          [
           "Simple Gifts: Shaker at The Met",
           "2016"
          ],
          [
           "Show and Tell",
           "2016"
          ],
          [
           "Renaissance Maiolica",
           "2016"
          ],
          [
           "Celebrating the Arts of Japan",
           "2016"
          ],
          [
           "Native American Masterpieces from the Charles and Valerie Diker Collection",
           "2016"
          ],
          [
           "Workshop and Legacy: Stanley William Hayter, Krishna Reddy, Zarina Hashmi",
           "2016"
          ],
          [
           "Velázquez Portraits: Truth in Painting",
           "2016"
          ],
          [
           "Power and Piety: Islamic Talismans on the Battlefield",
           "2016"
          ],
          [
           "Poetry and Devotion in Indian Painting: Two Decades of Collecting",
           "2016"
          ],
          [
           "Benjamin Franklin",
           "2016"
          ],
          [
           "Phil Collins:how to make a refugee",
           "2016"
          ],
          [
           "The Roof Garden Commission: Cornelia Parker,Transitional Object (PsychoBarn)",
           "2016"
          ],
          [
           "Expressions of Nature in Korean Art",
           "2016"
          ],
          [
           "Global by Design",
           "2016"
          ],
          [
           "Manus × Machina: Fashion in an Age of Technology",
           "2016"
          ],
          [
           "New Discoveries: Early Liturgical Textiles from Egypt, 200–400",
           "2016"
          ],
          [
           "Monkey Business",
           "2016"
          ],
          [
           "Transformed",
           "2016"
          ],
          [
           "Reconstructions",
           "2016"
          ],
          [
           "Girolamo dai Libri and Veronese Art of the Sixteenth Century",
           "2016"
          ],
          [
           "A Passion for Jade: Heber Bishop and His Collection",
           "2017"
          ],
          [
           "Streams and Mountains without End: Landscape Traditions of China",
           "2017"
          ],
          [
           "The Secret Life of Textiles: The Milton Sonday Archive",
           "2017"
          ],
          [
           "Crowns of the Vajra Masters: Ritual Art of Nepal",
           "2017"
          ],
          [
           "Portable Storage: Tribal Weavings from the Collection of William and Inger Ginsberg",
           "2017"
          ],
          [
           "Provocations: Anselm Kiefer at The Met Breuer",
           "2017"
          ],
          [
           "Quicksilver Brilliance: Adolf de Meyer Photographs",
           "2017"
          ],
          [
           "Cosmic Buddhas in the Himalayas",
           "2017"
          ],
          [
           "Arms and Armor from the Islamic World",
           "2017"
          ],
          [
           "Sara Berman's Closet",
           "2017"
          ],
          [
           "Eighteenth-Century Pastel Portraits",
           "2017"
          ],
          [
           "Colors of the Universe: Chinese Hardstone Carvings",
           "2017"
          ],
          [
           "The Body Politic: Video from The Met Collection",
           "2017"
          ],
          [
           "Carpets for Kings: Six Masterpieces of Iranian Weaving",
           "2017"
          ],
          [
           "Simple Gifts: Shaker at The Met",
           "2017"
          ],
          [
           "Show and Tell",
           "2017"
          ],
          [
           "Renaissance Maiolica",
           "2017"
          ],
          [
           "Small Wonders: Gothic Boxwood Miniatures",
           "2017"
          ],
          [
           "The Mysterious Landscapes of Hercules Segers",
           "2017"
          ],
          [
           "Celebrating the Arts of Japan",
           "2017"
          ],
          [
           "Picturing Math: Selections from the Department of Drawings and Prints",
           "2017"
          ],
          [
           "Native American Masterpieces from the Charles and Valerie Diker Collection",
           "2017"
          ],
          [
           "Workshop and Legacy: Stanley William Hayter, Krishna Reddy, Zarina Hashmi",
           "2017"
          ],
          [
           "Velázquez Portraits: Truth in Painting",
           "2017"
          ],
          [
           "Power and Piety: Islamic Talismans on the Battlefield",
           "2017"
          ],
          [
           "A Passion for Jade: Heber Bishop and His Collection",
           "2018"
          ],
          [
           "Atea: Nature and Divinity in Polynesia",
           "2018"
          ],
          [
           "Essential Korea",
           "2018"
          ],
          [
           "Streams and Mountains without End: Landscape Traditions of China",
           "2018"
          ],
          [
           "The Secret Life of Textiles: The Milton Sonday Archive",
           "2018"
          ],
          [
           "Jane and Louise Wilson:Stasi City",
           "2018"
          ],
          [
           "Clouds and Gold Dust: Decorated Papers from the Ettinghausen Collection",
           "2018"
          ],
          [
           "Nedjemankh and His Gilded Coffin",
           "2018"
          ],
          [
           "Crowns of the Vajra Masters: Ritual Art of Nepal",
           "2018"
          ],
          [
           "The Roof Garden Commission: Huma Bhabha,We Come in Peace",
           "2018"
          ],
          [
           "Heavenly Bodies: Fashion and the Catholic Imagination",
           "2018"
          ],
          [
           "Selections from the Department of Drawings and Prints: Life at Court",
           "2018"
          ],
          [
           "Visitors to Versailles (1682–1789)",
           "2018"
          ],
          [
           "Portable Storage: Tribal Weavings from the Collection of William and Inger Ginsberg",
           "2018"
          ],
          [
           "Birds of a Feather: Joseph Cornell's Homage to Juan Gris",
           "2018"
          ],
          [
           "Provocations: Anselm Kiefer at The Met Breuer",
           "2018"
          ],
          [
           "Quicksilver Brilliance: Adolf de Meyer Photographs",
           "2018"
          ],
          [
           "Sita and Rama: TheRamayanain Indian Painting",
           "2019"
          ],
          [
           "Kyoto: Capital of Artistic Imagination",
           "2019"
          ],
          [
           "The Art of London Firearms",
           "2019"
          ],
          [
           "A Passion for Jade: Heber Bishop and His Collection",
           "2019"
          ],
          [
           "In Pursuit of Fashion: The Sandy Schreier Collection",
           "2019"
          ],
          [
           "Frank Lloyd Wright Textiles: The Taliesin Line, 1955–60",
           "2019"
          ],
          [
           "The Colmar Treasure: A Medieval Jewish Legacy",
           "2019"
          ],
          [
           "Atea: Nature and Divinity in Polynesia",
           "2019"
          ],
          [
           "Essential Korea",
           "2019"
          ],
          [
           "Camp: Notes on Fashion",
           "2019"
          ],
          [
           "Oliver Beer:Vessel Orchestra",
           "2019"
          ],
          [
           "Streams and Mountains without End: Landscape Traditions of China",
           "2019"
          ],
          [
           "The Tale of Genji: A Japanese Classic Illuminated",
           "2019"
          ],
          [
           "The Secret Life of Textiles: The Milton Sonday Archive",
           "2019"
          ],
          [
           "Jane and Louise Wilson:Stasi City",
           "2019"
          ],
          [
           "Clouds and Gold Dust: Decorated Papers from the Ettinghausen Collection",
           "2019"
          ],
          [
           "Nedjemankh and His Gilded Coffin",
           "2019"
          ],
          [
           "Crossroads",
           "2020"
          ],
          [
           "Emperors, Artists & Inventors: Transformative Gifts of Fine Arms and Armor",
           "2020"
          ],
          [
           "Gifts in Celebration of the Museum’s Anniversary",
           "2020"
          ],
          [
           "Chinese Painting and Calligraphy Up Close",
           "2020"
          ],
          [
           "Art for the Community: The Met’s Circulating Textile Exhibitions, 1933–42",
           "2020"
          ],
          [
           "Sita and Rama: TheRamayanain Indian Painting",
           "2020"
          ],
          [
           "About Time: Fashion and Duration",
           "2020"
          ],
          [
           "Kyoto: Capital of Artistic Imagination",
           "2020"
          ],
          [
           "James Nares:Street",
           "2020"
          ],
          [
           "Sahel: Art and Empires on the Shores of the Sahara",
           "2020"
          ],
          [
           "The Art of London Firearms",
           "2020"
          ],
          [
           "A Passion for Jade: Heber Bishop and His Collection",
           "2020"
          ],
          [
           "In Pursuit of Fashion: The Sandy Schreier Collection",
           "2020"
          ],
          [
           "Frank Lloyd Wright Textiles: The Taliesin Line, 1955–60",
           "2020"
          ],
          [
           "Yoko Ono:DREAM TOGETHER",
           "2020"
          ],
          [
           "The Colmar Treasure: A Medieval Jewish Legacy",
           "2020"
          ],
          [
           "Bodhisattvas of Wisdom, Compassion, and Power",
           "2021"
          ],
          [
           "Crossroads",
           "2021"
          ],
          [
           "Cruel Radiance: Photography, 1940s–1960s",
           "2021"
          ],
          [
           "Emperors, Artists & Inventors: Transformative Gifts of Fine Arms and Armor",
           "2021"
          ],
          [
           "Gifts in Celebration of the Museum’s Anniversary",
           "2021"
          ],
          [
           "Karl Bodmer: North American Portraits",
           "2021"
          ],
          [
           "Georg Baselitz: Pivotal Turn",
           "2021"
          ],
          [
           "Chinese Painting and Calligraphy Up Close",
           "2021"
          ],
          [
           "Art for the Community: The Met’s Circulating Textile Exhibitions, 1933–42",
           "2021"
          ],
          [
           "Sita and Rama: TheRamayanain Indian Painting",
           "2021"
          ],
          [
           "About Time: Fashion and Duration",
           "2021"
          ],
          [
           "Kyoto: Capital of Artistic Imagination",
           "2021"
          ],
          [
           "The Facade Commission: Hew Locke,Gilt",
           "2022"
          ],
          [
           "Water Memories",
           "2022"
          ],
          [
           "Crossings",
           "2022"
          ],
          [
           "Celebrating the Year of the Tiger",
           "2022"
          ],
          [
           "The Lightning Testimonies",
           "2022"
          ],
          [
           "Bodhisattvas of Wisdom, Compassion, and Power",
           "2022"
          ],
          [
           "Louise Bourgeois: Paintings",
           "2022"
          ],
          [
           "Crossroads",
           "2022"
          ],
          [
           "Art Work: Artists Working at The Met",
           "2022"
          ],
          [
           "Cruel Radiance: Photography, 1940s–1960s",
           "2022"
          ],
          [
           "Emperors, Artists & Inventors: Transformative Gifts of Fine Arms and Armor",
           "2022"
          ],
          [
           "Bélizaire and the Frey Children",
           "2023"
          ],
          [
           "Rich Man, Poor Man: Art, Class, and Commerce in a Late Medieval Town",
           "2023"
          ],
          [
           "Richard Avedon: MURALS",
           "2023"
          ],
          [
           "Berenice Abbott’s New York Album, 1929",
           "2023"
          ],
          [
           "The Facade Commission: Hew Locke,Gilt",
           "2023"
          ],
          [
           "Water Memories",
           "2023"
          ],
          [
           "Crossings",
           "2023"
          ],
          [
           "Celebrating the Year of the Tiger",
           "2023"
          ],
          [
           "Art Work: Artists Working at The Met",
           "2024"
          ],
          [
           "Sleeping Beauties: Reawakening Fashion",
           "2024"
          ],
          [
           "Hidden Faces: Covered Portraits of the Renaissance",
           "2024"
          ],
          [
           "Bélizaire and the Frey Children",
           "2024"
          ],
          [
           "Rich Man, Poor Man: Art, Class, and Commerce in a Late Medieval Town",
           "2024"
          ]
         ],
         "hovertemplate": "color=5<br>PCA Component 1=%{x}<br>PCA Component 2=%{y}<br>Title=%{customdata[0]}<br>Year=%{customdata[1]}<extra></extra>",
         "legendgroup": "5",
         "marker": {
          "color": "#00cc96",
          "symbol": "circle"
         },
         "mode": "markers",
         "name": "5",
         "orientation": "v",
         "showlegend": true,
         "type": "scatter",
         "x": [
          -0.006707695942367384,
          -0.021046989692226643,
          -0.013313597240377515,
          0.0020408095137002913,
          -0.017440818462699695,
          0.007258129327826527,
          -0.002698504669755908,
          -0.00844737856196089,
          -0.008128896563148715,
          0.0038183387291099123,
          -0.00787444871036312,
          0.00603569187090819,
          -0.019763965694311644,
          -0.008982404475179716,
          -0.02073633538567375,
          -0.008936008278823208,
          -0.0011259527772521259,
          0.008455728924356313,
          -0.015244905304341128,
          0.0021302125137635727,
          -0.019534776400051218,
          -0.0011304427722534554,
          0.005051220087536855,
          -0.016410644855721884,
          -0.006707695942367383,
          0.015464349482573844,
          -0.017839147731324306,
          -0.0015244565937854598,
          -0.016430720773838475,
          -0.014303479868757648,
          0.004562782005234159,
          -0.021046989692226643,
          0.005911788910616713,
          0.000002587159270587048,
          -0.0073318969019228915,
          -0.010437637137554927,
          -0.013313597240377515,
          0.009230205975023225,
          -0.01443859552048698,
          0.0020408095137002913,
          -0.017440818462699695,
          0.0012611753941857698,
          -0.018198776791009483,
          -0.0026127703727477267,
          -0.0031371332157704834,
          -0.012947478316427462,
          -0.01975872093168414,
          -0.023854788803031376,
          -0.0036944734302909194,
          0.0021302125137635727,
          -0.011236880236914739,
          -0.005391140094734291,
          -0.019534776400051218,
          -0.018403461849280326,
          -0.003113425421920351,
          -0.0011304427722534554,
          0.005051220087536855,
          -0.016410644855721884,
          -0.003385008888575028,
          -0.0019632670889858906,
          -0.006707695942367383,
          -0.016534428364455175,
          0.015464349482573844,
          -0.017839147731324306,
          -0.0015244565937854598,
          -0.016430720773838475,
          0.0012611753941857698,
          0.014843560933989775,
          -0.016204446194084555,
          -0.018198776791009483,
          -0.0026127703727477267,
          -0.0022014496954307432,
          -0.005984135714031244,
          -0.0058963777574002636,
          -0.0031371332157704834,
          0.0010048636136176646,
          0.0018912731990733467,
          -0.008309090071181259,
          0.011174587813364641,
          -0.012947478316427462,
          -0.001182960018374651,
          -0.01975872093168414,
          -0.023854788803031376,
          -0.012719568134207269,
          -0.013732088489593725,
          -0.012858659491337208,
          0.0012611753941857698,
          -0.008430592301495633,
          -0.007683828805377734,
          -0.01217426505521338,
          0.014843560933989775,
          -0.016204446194084555,
          -0.006571978426114737,
          0.003203141837807127,
          -0.018198776791009483,
          -0.0190002489876558,
          -0.0026127703727477267,
          -0.0022014496954307432,
          -0.005984135714031244,
          -0.0058963777574002636,
          -0.011950723250838914,
          -0.016146930048892314,
          -0.010861680005139563,
          -0.013698554093049953,
          0.008322346290162852,
          -0.012719568134207269,
          -0.023060995999977976,
          -0.013732088489593725,
          0.0065622697708335506,
          -0.019185267866176796,
          -0.012858659491337208,
          0.0012611753941857698,
          -0.008430592301495633,
          -0.007683828805377734,
          -0.0008730496174676926,
          -0.01217426505521338,
          0.0006458853549809622,
          -0.011950723250838914,
          -0.00943807864783057,
          -0.016146930048892314,
          -0.010861680005139563,
          -0.016375599826043405,
          -0.015540880482767255,
          -0.013698554093049953,
          0.008322346290162852,
          -0.012719568134207269,
          -0.023060995999977976,
          -0.013732088489593725,
          -0.016627073147962242,
          -0.017794081096135728,
          -0.015623309682640675,
          0.0023380953133852883,
          0.008373619009247355,
          0.0006458853549809622,
          -0.010637403581560456,
          -0.011950723250838914,
          -0.011166689742170914,
          -0.00943807864783057,
          -0.016146930048892314,
          -0.014857225535934292,
          -0.015759706705806426,
          -0.007803512701866341,
          0.007908807545127433,
          -0.016627073147962242,
          -0.017794081096135728,
          -0.015623309682640675,
          0.0023380953133852883,
          -0.014435133764646934,
          -0.014210236856560863,
          -0.01316275524610388,
          -0.014857225535934292,
          -0.015759706705806426
         ],
         "xaxis": "x",
         "y": [
          -0.025373213418848305,
          -0.01305492758168331,
          0.009518503353317019,
          -0.001002409768966432,
          -0.009950539155025749,
          -0.018167490779641943,
          0.010921327993600852,
          -0.0014100671470175306,
          -0.015082299224431406,
          -0.009624817778555256,
          -0.014915075696715088,
          -0.008435336247250907,
          -0.008749641627006375,
          0.005792596686393978,
          -0.017232567640838442,
          -0.01006356345030806,
          -0.007046331897727311,
          -0.016388503113504115,
          -0.018471450367594653,
          -0.012565402844775678,
          -0.004100941725857103,
          0.0029216375202768185,
          -0.025857165400400683,
          -0.028906918621314295,
          -0.025373213418848305,
          -0.020650770786525843,
          -0.024297191657324236,
          -0.025882998452747656,
          -0.011359154114606378,
          -0.01211069402450994,
          -0.024321846277286525,
          -0.01305492758168331,
          -0.024973144713985384,
          -0.005241001069287118,
          -0.012137575179049013,
          -0.010718620932256262,
          0.009518503353317019,
          -0.0028215081217525194,
          -0.023972907636049035,
          -0.001002409768966432,
          -0.009950539155025749,
          -0.019590111464580912,
          -0.021965868961878313,
          -0.010588240277686711,
          -0.00870986704317858,
          -0.010639918279913896,
          -0.0033906008546958125,
          -0.015427896173706764,
          -0.0041181331803611465,
          -0.012565402844775678,
          -0.004609695377518843,
          -0.0163169138212189,
          -0.004100941725857103,
          -0.02635694395045179,
          0.012658578952667112,
          0.0029216375202768185,
          -0.025857165400400683,
          -0.028906918621314295,
          -0.0008970367105299219,
          -0.020455838664604393,
          -0.025373213418848305,
          -0.001996369477432337,
          -0.020650770786525843,
          -0.024297191657324236,
          -0.025882998452747656,
          -0.011359154114606378,
          -0.019590111464580912,
          -0.019058198911875653,
          -0.01982528134161713,
          -0.021965868961878313,
          -0.010588240277686711,
          -0.020010622460987424,
          -0.01163452752994943,
          -0.002623077720728654,
          -0.00870986704317858,
          -0.024291736802009686,
          -0.023541106764185738,
          -0.008103025062845673,
          -0.019800623137423434,
          -0.010639918279913896,
          -0.016341251939808246,
          -0.0033906008546958125,
          -0.015427896173706764,
          -0.026466887552908533,
          -0.014270387812117086,
          -0.012606219277688673,
          -0.019590111464580912,
          -0.0017359453914325541,
          -0.01235588114007008,
          -0.013256670948995184,
          -0.019058198911875653,
          -0.01982528134161713,
          -0.007495974391427589,
          -0.018265153473855402,
          -0.021965868961878313,
          -0.025079521285480764,
          -0.010588240277686711,
          -0.020010622460987424,
          -0.01163452752994943,
          -0.002623077720728654,
          -0.003633658058978727,
          -0.0044398693138279445,
          -0.008923181543179264,
          -0.019206718382100606,
          -0.020639559984629137,
          -0.026466887552908533,
          -0.01744214078701958,
          -0.014270387812117086,
          -0.01695006134875141,
          -0.014095020472195784,
          -0.012606219277688673,
          -0.019590111464580912,
          -0.0017359453914325541,
          -0.01235588114007008,
          -0.014535588356689222,
          -0.013256670948995184,
          -0.013540204734891216,
          -0.003633658058978727,
          0.004496864640671305,
          -0.0044398693138279445,
          -0.008923181543179264,
          -0.013306023258444289,
          -0.02932402074834235,
          -0.019206718382100606,
          -0.020639559984629137,
          -0.026466887552908533,
          -0.01744214078701958,
          -0.014270387812117086,
          -0.004229924234621854,
          -0.014398642386074493,
          -0.0052019107766748994,
          0.0008739852761317586,
          -0.016661199289481274,
          -0.013540204734891216,
          -0.027013477500168907,
          -0.003633658058978727,
          -0.02673345614791414,
          0.004496864640671305,
          -0.0044398693138279445,
          -0.003452244782318549,
          -0.012324996673190532,
          0.001659675505262057,
          -0.014970324165731849,
          -0.004229924234621854,
          -0.014398642386074493,
          -0.0052019107766748994,
          0.0008739852761317586,
          -0.025302173731461885,
          -0.006731801065505155,
          -0.014961561507964878,
          -0.003452244782318549,
          -0.012324996673190532
         ],
         "yaxis": "y"
        },
        {
         "customdata": [
          [
           "Masterpieces of Chinese Painting from The Met Collection",
           "2015"
          ],
          [
           "Design for Eternity: Architectural Models from the Ancient Americas",
           "2015"
          ],
          [
           "American Quilts and Folk Art",
           "2015"
          ],
          [
           "Artistic Furniture of the Gilded Age",
           "2015"
          ],
          [
           "Ancient Egypt Transformed",
           "2015"
          ],
          [
           "Andrea del Sarto'sBorgherini Holy Family",
           "2015"
          ],
          [
           "Fashion and Virtue",
           "2015"
          ],
          [
           "Kongo: Power and Majesty",
           "2015"
          ],
          [
           "Arms and Armor",
           "2015"
          ],
          [
           "About Face",
           "2015"
          ],
          [
           "Paintings by George Stubbs from the Yale Center for British Art",
           "2015"
          ],
          [
           "The Roof Garden Commission: Pierre Huyghe",
           "2015"
          ],
          [
           "Treasures and Talismans",
           "2015"
          ],
          [
           "China: Through the Looking Glass",
           "2015"
          ],
          [
           "Coptic Art, Dikran Kelekian, and Milton Avery",
           "2015"
          ],
          [
           "Van Gogh: Irises and Roses",
           "2015"
          ],
          [
           "Fatal Attraction",
           "2015"
          ],
          [
           "Cranach'sSaint Maurice",
           "2015"
          ],
          [
           "Sultans of Deccan India, 1500–1700: Opulence and Fantasy",
           "2015"
          ],
          [
           "Fatal Attraction",
           "2015"
          ],
          [
           "The Art of the Chinese Album",
           "2015"
          ],
          [
           "Paper Chase",
           "2015"
          ],
          [
           "Cubism",
           "2015"
          ],
          [
           "El Greco in New York",
           "2015"
          ],
          [
           "Treasures from India",
           "2015"
          ],
          [
           "Assyria to Iberia at the Dawn of the Classical Age",
           "2015"
          ],
          [
           "The Aesthetic Movement in America",
           "2016"
          ],
          [
           "Splendors of Korean Art",
           "2016"
          ],
          [
           "Renaissance Portrait Medals from the Robert Lehman Collection",
           "2016"
          ],
          [
           "The Poetics of Place: Contemporary Photographs from The Met Collection",
           "2016"
          ],
          [
           "European Paintings: Recent Acquisitions 2015–16",
           "2016"
          ],
          [
           "Kerry James Marshall: Mastry",
           "2016"
          ],
          [
           "Jerusalem 1000–1400: Every People Under Heaven",
           "2016"
          ],
          [
           "Masterpieces of Chinese Painting from The Met Collection",
           "2016"
          ],
          [
           "Design for Eternity: Architectural Models from the Ancient Americas",
           "2016"
          ],
          [
           "Divine Pleasures: Painting from India's Rajput Courts—The Kronos Collections",
           "2016"
          ],
          [
           "American Quilts and Folk Art",
           "2016"
          ],
          [
           "Court and Cosmos",
           "2016"
          ],
          [
           "Pergamon and the Hellenistic Kingdoms of the Ancient World",
           "2016"
          ],
          [
           "Artistic Furniture of the Gilded Age",
           "2016"
          ],
          [
           "Nasreen Mohamedi",
           "2016"
          ],
          [
           "Vigée Le Brun: Woman Artist in Revolutionary France",
           "2016"
          ],
          [
           "A New Look at a Van Eyck Masterpiece",
           "2016"
          ],
          [
           "Ancient Egypt Transformed",
           "2016"
          ],
          [
           "Andrea del Sarto'sBorgherini Holy Family",
           "2016"
          ],
          [
           "Fashion and Virtue",
           "2016"
          ],
          [
           "Kongo: Power and Majesty",
           "2016"
          ],
          [
           "Arms and Armor",
           "2016"
          ],
          [
           "Art and Peoples of the Kharga Oasis",
           "2017"
          ],
          [
           "Range: Experiments in New York, 1961–2007",
           "2017"
          ],
          [
           "Rodin at The Met",
           "2017"
          ],
          [
           "Japanese Bamboo Art: The Abbey Collection",
           "2017"
          ],
          [
           "Delirious: Art at the Limits of Reason, 1950–1980",
           "2017"
          ],
          [
           "Leonardo to Matisse: Master Drawings from the Robert Lehman Collection",
           "2017"
          ],
          [
           "Modernism on the Ganges: Raghubir Singh Photographs",
           "2017"
          ],
          [
           "Company School Painting in India (ca. 1770–1850)",
           "2017"
          ],
          [
           "On Country: Australian Aboriginal Art from the Kaplan-Levi Gift",
           "2017"
          ],
          [
           "The Aesthetic Movement in America",
           "2017"
          ],
          [
           "Splendors of Korean Art",
           "2017"
          ],
          [
           "Ettore Sottsass: Design Radical",
           "2017"
          ],
          [
           "Irving Penn: Centennial",
           "2017"
          ],
          [
           "Lygia Pape: A Multitude of Forms",
           "2017"
          ],
          [
           "Peder Balke: Painter of Northern Light",
           "2017"
          ],
          [
           "Renaissance Portrait Medals from the Robert Lehman Collection",
           "2017"
          ],
          [
           "The Poetics of Place: Contemporary Photographs from The Met Collection",
           "2017"
          ],
          [
           "Breuer Revisited: New Photographs by Luisa Lambri and Bas Princen",
           "2017"
          ],
          [
           "European Paintings: Recent Acquisitions 2015–16",
           "2017"
          ],
          [
           "Kerry James Marshall: Mastry",
           "2017"
          ],
          [
           "Jerusalem 1000–1400: Every People Under Heaven",
           "2017"
          ],
          [
           "Art and Peoples of the Kharga Oasis",
           "2018"
          ],
          [
           "Epic Abstraction: Pollock to Herrera",
           "2018"
          ],
          [
           "Dangerous Beauty: Medusa in Classical Art",
           "2018"
          ],
          [
           "Discoveries @30",
           "2018"
          ],
          [
           "Celebrating Tintoretto: Portrait Paintings and Studio Drawings",
           "2018"
          ],
          [
           "The Poetry of Nature: Edo Paintings from the Fishbein-Bender Collection",
           "2018"
          ],
          [
           "Armenia!",
           "2018"
          ],
          [
           "Delacroix",
           "2018"
          ],
          [
           "Everything Is Connected: Art and Conspiracy",
           "2018"
          ],
          [
           "Obsession: Nudes by Klimt, Schiele, and Picasso from the Scofield Thayer Collection",
           "2018"
          ],
          [
           "Public Service Announcement: Works by Eva Koťátková and Rachel Harrison",
           "2018"
          ],
          [
           "Ranjani Shettar:Seven ponds and a few raindrops",
           "2018"
          ],
          [
           "Like Life: Sculpture, Color, and the Body (1300–Now)",
           "2018"
          ],
          [
           "Before/On/After: William Wegman and California Conceptualism",
           "2018"
          ],
          [
           "American Painters in Italy: From Copley to Sargent",
           "2018"
          ],
          [
           "Golden Kingdoms: Luxury and Legacy in the Ancient Americas",
           "2018"
          ],
          [
           "Leon Golub: Raw Nerve",
           "2018"
          ],
          [
           "Diamond Mountains: Travel and Nostalgia in Korean Art",
           "2018"
          ],
          [
           "Range: Experiments in New York, 1961–2007",
           "2018"
          ],
          [
           "Rodin at The Met",
           "2018"
          ],
          [
           "Japanese Bamboo Art: The Abbey Collection",
           "2018"
          ],
          [
           "Delirious: Art at the Limits of Reason, 1950–1980",
           "2018"
          ],
          [
           "Leonardo to Matisse: Master Drawings from the Robert Lehman Collection",
           "2018"
          ],
          [
           "Modernism on the Ganges: Raghubir Singh Photographs",
           "2018"
          ],
          [
           "The Great Hall Commission: Kent Monkman,mistikôsiwak (Wooden Boat People)",
           "2019"
          ],
          [
           "Aesthetic Splendors: Highlights from the Gift of Barrie and Deedee Wigmore",
           "2019"
          ],
          [
           "Art and Peoples of the Kharga Oasis",
           "2019"
          ],
          [
           "Home Is a Foreign Place: Recent Acquisitions in Context",
           "2019"
          ],
          [
           "Pen, Lens & Soul: The Story of The Beautiful Project",
           "2019"
          ],
          [
           "Epic Abstraction: Pollock to Herrera",
           "2019"
          ],
          [
           "Félix Vallotton: Painter of Disquiet",
           "2019"
          ],
          [
           "Watercolors of the Acropolis: Émile Gilliéron in Athens",
           "2019"
          ],
          [
           "Vija Celmins: To Fix the Image in Memory",
           "2019"
          ],
          [
           "The Last Knight: The Art, Armor, and Ambition of Maximilian I",
           "2019"
          ],
          [
           "Another World Lies Beyond: Chinese Art and the Divine",
           "2019"
          ],
          [
           "The Decorated Word: Writing and Picturing in Islamic Calligraphy",
           "2019"
          ],
          [
           "The Roof Garden Commission: Alicja Kwade,ParaPivot",
           "2019"
          ],
          [
           "We Found Us: Expanding the Walls 2019",
           "2019"
          ],
          [
           "Selections from the Department of Drawings and Prints: Rembrandt",
           "2019"
          ],
          [
           "The World between Empires: Art and Identity in the Ancient Middle East",
           "2019"
          ],
          [
           "Dangerous Beauty: Medusa in Classical Art",
           "2019"
          ],
          [
           "Discoveries @30",
           "2019"
          ],
          [
           "Celebrating Tintoretto: Portrait Paintings and Studio Drawings",
           "2019"
          ],
          [
           "The Poetry of Nature: Edo Paintings from the Fishbein-Bender Collection",
           "2019"
          ],
          [
           "Armenia!",
           "2019"
          ],
          [
           "Delacroix",
           "2019"
          ],
          [
           "Everything Is Connected: Art and Conspiracy",
           "2019"
          ],
          [
           "Spring Blossoms: Margaret Armstrong’s Decorated Publishers’ Bindings",
           "2020"
          ],
          [
           "The Great Hall Commission: Kent Monkman,mistikôsiwak (Wooden Boat People)",
           "2020"
          ],
          [
           "Aesthetic Splendors: Highlights from the Gift of Barrie and Deedee Wigmore",
           "2020"
          ],
          [
           "Art and Peoples of the Kharga Oasis",
           "2020"
          ],
          [
           "Gerhard Richter: The Birkenau Paintings",
           "2020"
          ],
          [
           "The Roof Garden Commission: Héctor Zamora,Lattice Detour",
           "2020"
          ],
          [
           "Photography's Last Century: The Ann Tenenbaum and Thomas H. Lee Collection",
           "2020"
          ],
          [
           "Home Is a Foreign Place: Recent Acquisitions in Context",
           "2020"
          ],
          [
           "From Géricault to Rockburne: Selections from the Michael and Juliet Rubenstein Gift",
           "2020"
          ],
          [
           "Pen, Lens & Soul: The Story of The Beautiful Project",
           "2020"
          ],
          [
           "Epic Abstraction: Pollock to Herrera",
           "2020"
          ],
          [
           "Félix Vallotton: Painter of Disquiet",
           "2020"
          ],
          [
           "Watercolors of the Acropolis: Émile Gilliéron in Athens",
           "2020"
          ],
          [
           "Vija Celmins: To Fix the Image in Memory",
           "2020"
          ],
          [
           "The Last Knight: The Art, Armor, and Ambition of Maximilian I",
           "2020"
          ],
          [
           "Another World Lies Beyond: Chinese Art and the Divine",
           "2020"
          ],
          [
           "The African Origin of Civilization",
           "2021"
          ],
          [
           "The Good Life: Collecting Late Antique Art at The Met",
           "2021"
          ],
          [
           "In America: A Lexicon of Fashion",
           "2021"
          ],
          [
           "A Selection of African American Art and Artists’ Books",
           "2021"
          ],
          [
           "Spain, 1000–1200: Art at the Frontiers of Faith",
           "2021"
          ],
          [
           "Spring Blossoms: Margaret Armstrong’s Decorated Publishers’ Bindings",
           "2021"
          ],
          [
           "Surrealism Beyond Borders",
           "2021"
          ],
          [
           "Jules Tavernier and the Elem Pomo",
           "2021"
          ],
          [
           "Goya’s Graphic Imagination",
           "2021"
          ],
          [
           "The Great Hall Commission: Kent Monkman,mistikôsiwak (Wooden Boat People)",
           "2021"
          ],
          [
           "Aesthetic Splendors: Highlights from the Gift of Barrie and Deedee Wigmore",
           "2021"
          ],
          [
           "Art and Peoples of the Kharga Oasis",
           "2021"
          ],
          [
           "Gerhard Richter: The Birkenau Paintings",
           "2021"
          ],
          [
           "The African Origin of Civilization",
           "2022"
          ],
          [
           "The Good Life: Collecting Late Antique Art at The Met",
           "2022"
          ],
          [
           "Chroma: Ancient Sculpture in Color",
           "2022"
          ],
          [
           "Fictions of Emancipation: Carpeaux Recast",
           "2022"
          ],
          [
           "Kimono Style: The John C. Weber Collection",
           "2022"
          ],
          [
           "Hear Me Now: The Black Potters of Old Edgefield, South Carolina",
           "2022"
          ],
          [
           "Noble Virtues: Nature as Symbol in Chinese Art",
           "2022"
          ],
          [
           "Cubism and the Trompe l’Oeil Tradition",
           "2022"
          ],
          [
           "Past/Present/Future: Expanding Indigenous American, Latinx, Hispanic American, Asian American, and Pacific Islander Perspectives in Thomas J. Watson Library",
           "2022"
          ],
          [
           "In Full Bloom: Margaret Armstrong's Decorated Publishers' Bindings Revisited",
           "2022"
          ],
          [
           "In America: An Anthology of Fashion",
           "2022"
          ],
          [
           "In America: A Lexicon of Fashion",
           "2022"
          ],
          [
           "A Selection of African American Art and Artists’ Books",
           "2022"
          ],
          [
           "Spain, 1000–1200: Art at the Frontiers of Faith",
           "2022"
          ],
          [
           "Spring Blossoms: Margaret Armstrong’s Decorated Publishers’ Bindings",
           "2022"
          ],
          [
           "Surrealism Beyond Borders",
           "2022"
          ],
          [
           "Lineages: Korean Art at The Met",
           "2023"
          ],
          [
           "The African Origin of Civilization",
           "2023"
          ],
          [
           "Anxiety and Hope in Japanese Art",
           "2023"
          ],
          [
           "Grounded in Clay: The Spirit of Pueblo Pottery",
           "2023"
          ],
          [
           "Women Dressing Women",
           "2023"
          ],
          [
           "British Vision, 1700–1900: Selections from the Department of Drawings and Prints",
           "2023"
          ],
          [
           "Africa & Byzantium",
           "2023"
          ],
          [
           "Artists of the Holocaust: Portfolios, Exhibition Catalogs, and Monographs",
           "2023"
          ],
          [
           "The Good Life: Collecting Late Antique Art at The Met",
           "2023"
          ],
          [
           "Learning to Paint in Premodern China",
           "2023"
          ],
          [
           "Tree & Serpent: Early Buddhist Art in India, 200 BCE–400 CE",
           "2023"
          ],
          [
           "Philip Guston: What Kind of Man Am I?",
           "2023"
          ],
          [
           "Karl Lagerfeld: A Line of Beauty",
           "2023"
          ],
          [
           "Juan de Pareja, Afro-Hispanic Painter",
           "2023"
          ],
          [
           "Decorated Paper: A Selection of Publications in Watson Library",
           "2023"
          ],
          [
           "Beyond the Light: Identity and Place in Nineteenth-Century Danish Art",
           "2023"
          ],
          [
           "Chroma: Ancient Sculpture in Color",
           "2023"
          ],
          [
           "Fictions of Emancipation: Carpeaux Recast",
           "2023"
          ],
          [
           "Kimono Style: The John C. Weber Collection",
           "2023"
          ],
          [
           "Hear Me Now: The Black Potters of Old Edgefield, South Carolina",
           "2023"
          ],
          [
           "Noble Virtues: Nature as Symbol in Chinese Art",
           "2023"
          ],
          [
           "Cubism and the Trompe l’Oeil Tradition",
           "2023"
          ],
          [
           "Past/Present/Future: Expanding Indigenous American, Latinx, Hispanic American, Asian American, and Pacific Islander Perspectives in Thomas J. Watson Library",
           "2023"
          ],
          [
           "Mary Sully: Native Modern",
           "2024"
          ],
          [
           "Chinese Painting and Calligraphy: Selections from the Collection",
           "2024"
          ],
          [
           "Inspiring Design: The Book Collection of Tiffany & Co.'s Edward C. Moore",
           "2024"
          ],
          [
           "Lineages: Korean Art at The Met",
           "2024"
          ],
          [
           "The African Origin of Civilization",
           "2024"
          ],
          [
           "Anxiety and Hope in Japanese Art",
           "2024"
          ],
          [
           "Weaving Abstraction in Ancient and Modern Art",
           "2024"
          ],
          [
           "Grounded in Clay: The Spirit of Pueblo Pottery",
           "2024"
          ],
          [
           "Isms and Non-Isms: Recent Acquisitions by Watson Library",
           "2024"
          ],
          [
           "Women Dressing Women",
           "2024"
          ],
          [
           "British Vision, 1700–1900: Selections from the Department of Drawings and Prints",
           "2024"
          ],
          [
           "Africa & Byzantium",
           "2024"
          ],
          [
           "A Magical Menagerie: Exploring Dragons, Griffins, Unicorns, and More at The Met Cloisters",
           "2024"
          ],
          [
           "Artists of the Holocaust: Portfolios, Exhibition Catalogs, and Monographs",
           "2024"
          ],
          [
           "The Good Life: Collecting Late Antique Art at The Met",
           "2024"
          ],
          [
           "Learning to Paint in Premodern China",
           "2024"
          ]
         ],
         "hovertemplate": "color=3<br>PCA Component 1=%{x}<br>PCA Component 2=%{y}<br>Title=%{customdata[0]}<br>Year=%{customdata[1]}<extra></extra>",
         "legendgroup": "3",
         "marker": {
          "color": "#ab63fa",
          "symbol": "circle"
         },
         "mode": "markers",
         "name": "3",
         "orientation": "v",
         "showlegend": true,
         "type": "scatter",
         "x": [
          -0.032506315972239117,
          -0.028070637127183436,
          -0.03272717618766206,
          -0.04127624699218108,
          -0.035872461350307444,
          -0.04098356228654521,
          -0.03985103812226017,
          -0.028638911488797915,
          -0.026988947381984398,
          -0.03164799232860036,
          -0.042510988280811804,
          -0.034392595226113216,
          -0.0320156103297507,
          -0.034849943859561944,
          -0.030138199721446542,
          -0.02368716809900329,
          -0.048135270634966296,
          -0.04724423836727291,
          -0.034496686635462605,
          -0.02897863344028574,
          -0.027213445018601408,
          -0.04499866344720578,
          -0.028164367133795196,
          -0.04227518206444129,
          -0.04412505555373996,
          -0.04559973109729021,
          -0.03916241082773447,
          -0.030442544753078355,
          -0.019825209112509203,
          -0.049732874364775394,
          -0.03172137425472458,
          -0.03295812307964216,
          -0.02860197124402175,
          -0.032506315972239117,
          -0.028070637127183436,
          -0.026882588895303754,
          -0.03272717618766206,
          -0.04658554203286734,
          -0.05352891173932019,
          -0.04127624699218108,
          -0.048509660228032846,
          -0.0399589859456741,
          -0.03230671052906447,
          -0.035872461350307444,
          -0.04098356228654521,
          -0.03985103812226017,
          -0.028638911488797915,
          -0.026988947381984398,
          -0.03760724244536684,
          -0.021982276272594373,
          -0.026107401019639816,
          -0.030673779056820744,
          -0.0428732604182701,
          -0.030711112272416147,
          -0.043795855160408424,
          -0.047175450455226496,
          -0.028159769753099896,
          -0.03916241082773447,
          -0.030442544753078355,
          -0.031860497804810074,
          -0.03491398247477017,
          -0.03352962374408399,
          -0.04077810159971043,
          -0.019825209112509203,
          -0.049732874364775394,
          -0.027731940754105226,
          -0.03172137425472458,
          -0.03295812307964216,
          -0.02860197124402175,
          -0.03760724244536684,
          -0.04735603116348121,
          -0.027953729153134096,
          -0.026460879570829966,
          -0.03949107375030139,
          -0.053541433342043906,
          -0.04279868326417747,
          -0.03602411278589433,
          -0.05275032829754253,
          -0.06255676129584876,
          -0.018751181428296702,
          -0.02972831972368822,
          -0.04108185377763717,
          -0.055892295011633696,
          -0.042927279606717175,
          -0.050927824257774486,
          -0.02353366435783978,
          -0.03130297771712058,
          -0.021982276272594373,
          -0.026107401019639816,
          -0.030673779056820744,
          -0.0428732604182701,
          -0.030711112272416147,
          -0.043795855160408424,
          -0.0509781914073163,
          -0.02409392166552574,
          -0.03760724244536684,
          -0.05361747328577268,
          -0.030135018487346867,
          -0.04735603116348121,
          -0.03142928656593485,
          -0.02336804258264435,
          -0.03275067633010725,
          -0.0556089757683854,
          -0.027380072104076548,
          -0.024258118043303873,
          -0.02531073255376606,
          -0.05704407429404772,
          -0.02663827863301801,
          -0.025061023340987077,
          -0.027953729153134096,
          -0.026460879570829966,
          -0.03949107375030139,
          -0.053541433342043906,
          -0.04279868326417747,
          -0.03602411278589433,
          -0.05275032829754253,
          -0.023926823206259867,
          -0.0509781914073163,
          -0.02409392166552574,
          -0.03760724244536684,
          -0.036077187553287406,
          -0.02283735147472601,
          -0.059623435091778476,
          -0.05361747328577268,
          -0.04490137291099722,
          -0.030135018487346867,
          -0.04735603116348121,
          -0.03142928656593485,
          -0.02336804258264435,
          -0.03275067633010725,
          -0.0556089757683854,
          -0.027380072104076548,
          -0.03639240677651419,
          -0.033690548767179675,
          -0.045632401515350675,
          -0.05129795541829841,
          -0.02382727890763864,
          -0.023926823206259867,
          -0.03581994740472422,
          -0.020547716390377613,
          -0.03512423633289077,
          -0.0509781914073163,
          -0.02409392166552574,
          -0.03760724244536684,
          -0.036077187553287406,
          -0.03639240677651419,
          -0.033690548767179675,
          -0.038434842800250786,
          -0.03954479902001704,
          -0.04278903353132667,
          -0.03952725692784658,
          -0.029250892164688326,
          -0.04179539936124146,
          -0.04457883309871503,
          -0.022063238581231187,
          -0.026138689582156562,
          -0.045632401515350675,
          -0.05129795541829841,
          -0.02382727890763864,
          -0.023926823206259867,
          -0.03581994740472422,
          -0.03410261493797858,
          -0.03639240677651419,
          -0.03399586912752394,
          -0.04577389784106142,
          -0.04818649936450992,
          -0.025373870142148834,
          -0.05042532322402452,
          -0.03859397769684776,
          -0.033690548767179675,
          -0.026320067457087922,
          -0.03549967907845968,
          -0.03723370159397432,
          -0.035711318320020606,
          -0.02900323901976761,
          -0.043579294122939205,
          -0.04811925912554309,
          -0.038434842800250786,
          -0.03954479902001704,
          -0.04278903353132667,
          -0.03952725692784658,
          -0.029250892164688326,
          -0.04179539936124146,
          -0.04457883309871503,
          -0.052519235656180434,
          -0.031415846408043305,
          -0.045386112593070065,
          -0.03410261493797858,
          -0.03639240677651419,
          -0.03399586912752394,
          -0.03965823840246168,
          -0.04577389784106142,
          -0.04113729841509168,
          -0.04818649936450992,
          -0.025373870142148834,
          -0.05042532322402452,
          -0.03910413214915696,
          -0.03859397769684776,
          -0.033690548767179675,
          -0.026320067457087922
         ],
         "xaxis": "x",
         "y": [
          -0.026444234325162793,
          -0.041781135506858656,
          -0.015971457134234354,
          -0.032282432919377844,
          -0.03385959039519023,
          -0.04827135053010912,
          -0.01801826332656201,
          -0.03304739504281631,
          -0.026915148864250057,
          -0.02812162025582506,
          -0.035446805254835526,
          -0.04431656019957958,
          -0.012876256931277561,
          -0.01960939341527888,
          -0.03375998682304537,
          -0.025160633356373942,
          -0.030371105769251172,
          -0.022561462543660617,
          -0.0434492130706996,
          -0.022140433071566656,
          -0.02412981189704645,
          -0.03619817137123993,
          -0.03545013269065863,
          -0.03651678486314619,
          -0.025283911444277437,
          -0.03152235876207848,
          -0.03889378675918957,
          -0.018602951889995705,
          -0.030739751054753264,
          -0.033728009751601486,
          -0.03130171128696749,
          -0.041673092484973355,
          -0.03523672395086424,
          -0.026444234325162793,
          -0.041781135506858656,
          -0.03191098189481976,
          -0.015971457134234354,
          -0.02796915936876965,
          -0.037791719750256324,
          -0.032282432919377844,
          -0.04286236130705163,
          -0.03811961744469508,
          -0.04055021631804294,
          -0.03385959039519023,
          -0.04827135053010912,
          -0.01801826332656201,
          -0.03304739504281631,
          -0.026915148864250057,
          -0.01453264510632518,
          -0.038710101584950175,
          -0.035657090358268466,
          -0.017667930458308997,
          -0.04081409232843252,
          -0.05051837198920468,
          -0.03151040453461302,
          -0.027318121200791065,
          -0.04037193800212443,
          -0.03889378675918957,
          -0.018602951889995705,
          -0.053623047875161645,
          -0.02422780262046975,
          -0.02482501482124839,
          -0.03973115159418759,
          -0.030739751054753264,
          -0.033728009751601486,
          -0.023168022323084278,
          -0.03130171128696749,
          -0.041673092484973355,
          -0.03523672395086424,
          -0.01453264510632518,
          -0.032240425843760995,
          -0.019248602653676165,
          -0.03468176496497517,
          -0.03549546517596778,
          -0.031204669393188736,
          -0.02467471336297466,
          -0.05424007389152102,
          -0.02728321392852423,
          -0.02700804964715445,
          -0.03229879826400134,
          -0.020561928366635666,
          -0.037431686839837795,
          -0.029540526745901192,
          -0.029479892351823276,
          -0.045222272005515034,
          -0.03443158971920702,
          -0.04951504916780234,
          -0.038710101584950175,
          -0.035657090358268466,
          -0.017667930458308997,
          -0.04081409232843252,
          -0.05051837198920468,
          -0.03151040453461302,
          -0.034408286824681805,
          -0.02311818148290057,
          -0.01453264510632518,
          -0.04055258596359789,
          -0.02498079348646559,
          -0.032240425843760995,
          -0.038681625503876396,
          -0.04270204450420456,
          -0.015522779073258589,
          -0.019101525408576524,
          -0.015837971889523458,
          -0.0252024704909384,
          -0.033478535964884606,
          -0.03365021134402868,
          -0.05222476450118953,
          -0.04805315340034754,
          -0.019248602653676165,
          -0.03468176496497517,
          -0.03549546517596778,
          -0.031204669393188736,
          -0.02467471336297466,
          -0.05424007389152102,
          -0.02728321392852423,
          -0.021815443110179033,
          -0.034408286824681805,
          -0.02311818148290057,
          -0.01453264510632518,
          -0.03495913582667676,
          -0.028654616927413622,
          -0.029304306464511296,
          -0.04055258596359789,
          -0.04744178967212618,
          -0.02498079348646559,
          -0.032240425843760995,
          -0.038681625503876396,
          -0.04270204450420456,
          -0.015522779073258589,
          -0.019101525408576524,
          -0.015837971889523458,
          -0.020289085515468253,
          -0.040032206323193605,
          -0.015968493310429342,
          -0.021844743840624032,
          -0.0378828489801936,
          -0.021815443110179033,
          -0.04067630800478969,
          -0.03855235361017396,
          -0.04833633482551592,
          -0.034408286824681805,
          -0.02311818148290057,
          -0.01453264510632518,
          -0.03495913582667676,
          -0.020289085515468253,
          -0.040032206323193605,
          -0.025599317783418497,
          -0.03562431401847413,
          -0.032336153701057885,
          -0.03181201166855454,
          -0.018858535503015264,
          -0.03233188618846748,
          -0.026816850112745778,
          -0.02345784997685273,
          -0.021930334432078338,
          -0.015968493310429342,
          -0.021844743840624032,
          -0.0378828489801936,
          -0.021815443110179033,
          -0.04067630800478969,
          -0.03227061845722229,
          -0.020289085515468253,
          -0.02475199960250513,
          -0.02844989080480397,
          -0.022248833636024486,
          -0.031541729327825486,
          -0.030595688185078577,
          -0.020493312752286084,
          -0.040032206323193605,
          -0.027972664603086946,
          -0.03774401087391286,
          -0.05318762478826638,
          -0.03185523612314425,
          -0.04799434196152019,
          -0.02029274490901615,
          -0.04446260541808524,
          -0.025599317783418497,
          -0.03562431401847413,
          -0.032336153701057885,
          -0.03181201166855454,
          -0.018858535503015264,
          -0.03233188618846748,
          -0.026816850112745778,
          -0.02811032842571143,
          -0.018077718710141258,
          -0.017061847555547648,
          -0.03227061845722229,
          -0.020289085515468253,
          -0.02475199960250513,
          -0.01872848337347419,
          -0.02844989080480397,
          -0.040666977364731995,
          -0.022248833636024486,
          -0.031541729327825486,
          -0.030595688185078577,
          -0.04012268572336413,
          -0.020493312752286084,
          -0.040032206323193605,
          -0.027972664603086946
         ],
         "yaxis": "y"
        },
        {
         "customdata": [
          [
           "Chinese Lacquer",
           "2015"
          ],
          [
           "A Passion for Jade",
           "2015"
          ],
          [
           "Chinese Textiles",
           "2015"
          ],
          [
           "Celebrating Sax",
           "2015"
          ],
          [
           "American and European Embroidered Samplers, 1600–1900",
           "2015"
          ],
          [
           "Liturgical Textiles of the Post-Byzantine World",
           "2015"
          ],
          [
           "Scenes from the Life of St. Martin",
           "2015"
          ],
          [
           "Elaborate Embroidery",
           "2015"
          ],
          [
           "Celebration of the Year of the Ram",
           "2015"
          ],
          [
           "Painting Music in the Age of Caravaggio",
           "2015"
          ],
          [
           "Carleton Watkins: Yosemite",
           "2015"
          ],
          [
           "Death Becomes Her",
           "2015"
          ],
          [
           "Kimono",
           "2015"
          ],
          [
           "Examining Opulence",
           "2015"
          ],
          [
           "The Sacred Lute",
           "2015"
          ],
          [
           "From the Imperial Theater",
           "2016"
          ],
          [
           "Cinnabar",
           "2016"
          ],
          [
           "City of Memory: William Chappel's Views of Early 19th-Century New York",
           "2016"
          ],
          [
           "The Secret Life of Textiles: Animal Fibers",
           "2016"
          ],
          [
           "The Arts of Nepal and Tibet: Recent Gifts",
           "2016"
          ],
          [
           "Printing a Child's World",
           "2016"
          ],
          [
           "Crime Stories",
           "2016"
          ],
          [
           "The Secret Life of Textiles: Plant Fibers",
           "2016"
          ],
          [
           "Chinese Lacquer",
           "2016"
          ],
          [
           "A Passion for Jade",
           "2016"
          ],
          [
           "Chinese Textiles",
           "2016"
          ],
          [
           "Wordplay",
           "2016"
          ],
          [
           "Celebrating Sax",
           "2016"
          ],
          [
           "American and European Embroidered Samplers, 1600–1900",
           "2016"
          ],
          [
           "Spirited Creatures: Animal Representations in Chinese Silk and Lacquer",
           "2017"
          ],
          [
           "The Silver Caesars: A Renaissance Mystery",
           "2017"
          ],
          [
           "The Roof Garden Commission: Adrián Villar Rojas,The Theater of Disappearance",
           "2017"
          ],
          [
           "From the Imperial Theater",
           "2017"
          ],
          [
           "Cinnabar",
           "2017"
          ],
          [
           "Celebrating the Year of the Rooster",
           "2017"
          ],
          [
           "City of Memory: William Chappel's Views of Early 19th-Century New York",
           "2017"
          ],
          [
           "Seurat's Circus Sideshow",
           "2017"
          ],
          [
           "The Secret Life of Textiles: Animal Fibers",
           "2017"
          ],
          [
           "The Arts of Nepal and Tibet: Recent Gifts",
           "2017"
          ],
          [
           "Japanese Arms and Armor from the Collection of Etsuko and John Morris",
           "2018"
          ],
          [
           "Public Parks, Private Gardens: Paris to Provence",
           "2018"
          ],
          [
           "Spirited Creatures: Animal Representations in Chinese Silk and Lacquer",
           "2018"
          ],
          [
           "Celebrating the Year of the Dog",
           "2018"
          ],
          [
           "Selections from the Department of Drawings and Prints: Portraits and States",
           "2018"
          ],
          [
           "The Silver Caesars: A Renaissance Mystery",
           "2018"
          ],
          [
           "Jewelry for America",
           "2019"
          ],
          [
           "Play It Loud: Instruments of Rock & Roll",
           "2019"
          ],
          [
           "Celebrating the Year of the Pig",
           "2019"
          ],
          [
           "Japanese Arms and Armor from the Collection of Etsuko and John Morris",
           "2019"
          ],
          [
           "Jewelry for America",
           "2020"
          ],
          [
           "Celebrating the Year of the Rat",
           "2020"
          ],
          [
           "Shell and Resin: Korean Mother-of-Pearl and Lacquer",
           "2021"
          ],
          [
           "Celebrating the Year of the Ox",
           "2021"
          ],
          [
           "Selections from the Department of Drawings and Prints: Revolution, Resistance, and Activism",
           "2021"
          ],
          [
           "Jewelry for America",
           "2021"
          ],
          [
           "Jegi: Korean Ritual Objects",
           "2022"
          ],
          [
           "Shell and Resin: Korean Mother-of-Pearl and Lacquer",
           "2022"
          ],
          [
           "Celebrating the Year of the Ox",
           "2022"
          ],
          [
           "Selections from the Department of Drawings and Prints: Revolution, Resistance, and Activism",
           "2022"
          ],
          [
           "Celebrating the Year of the Rabbit",
           "2023"
          ],
          [
           "The Great Hall Commission: Jacolby Satterwhite,A Metta Prayer",
           "2023"
          ],
          [
           "Jegi: Korean Ritual Objects",
           "2023"
          ],
          [
           "Celebrating the Year of the Rabbit",
           "2024"
          ],
          [
           "The Great Hall Commission: Jacolby Satterwhite,A Metta Prayer",
           "2024"
          ]
         ],
         "hovertemplate": "color=0<br>PCA Component 1=%{x}<br>PCA Component 2=%{y}<br>Title=%{customdata[0]}<br>Year=%{customdata[1]}<extra></extra>",
         "legendgroup": "0",
         "marker": {
          "color": "#FFA15A",
          "symbol": "circle"
         },
         "mode": "markers",
         "name": "0",
         "orientation": "v",
         "showlegend": true,
         "type": "scatter",
         "x": [
          0.07437442639198584,
          0.012378798410700526,
          0.034104401030651085,
          0.028067931637719905,
          0.035083744697912485,
          0.07164973770100361,
          0.02524701182576517,
          0.02652956773465136,
          0.014459373109200513,
          0.02210385474040032,
          0.0050505891334539105,
          0.008753378278515385,
          0.011414008703119516,
          0.020628122275300136,
          0.0015765270169475082,
          0.034077746649698024,
          0.07021251641127614,
          0.032324782361949786,
          0.02893564501818162,
          0.031136766629504972,
          0.016801358657007225,
          0.0234499979635664,
          0.005267374945279273,
          0.07437442639198584,
          0.012378798410700526,
          0.034104401030651085,
          0.06134273759669914,
          0.028067931637719905,
          0.035083744697912485,
          0.02362819562970666,
          0.016327905994758415,
          0.027243896663873383,
          0.034077746649698024,
          0.07021251641127614,
          0.058246497946970094,
          0.032324782361949786,
          0.02737096053400662,
          0.02893564501818162,
          0.031136766629504972,
          0.027791217790491318,
          0.050979467988568665,
          0.02362819562970666,
          0.006404041436349169,
          0.005848650005167081,
          0.016327905994758415,
          0.04169867764022487,
          0.010424258755435359,
          0.02587335401653879,
          0.027791217790491318,
          0.04169867764022487,
          0.007056733811585672,
          0.012777517047181408,
          0.04048690294462603,
          0.033846775614960994,
          0.04169867764022487,
          0.01632477249603387,
          0.012777517047181408,
          0.04048690294462603,
          0.033846775614960994,
          0.006690247621181781,
          0.008588913331509938,
          0.01632477249603387,
          0.006690247621181781,
          0.008588913331509938
         ],
         "xaxis": "x",
         "y": [
          0.022023461283703288,
          0.0222871255667885,
          -0.016329772642846664,
          0.016028114887607133,
          -0.01577684638890498,
          0.03687524262361631,
          0.0034931791325735835,
          -0.005657072587331136,
          -0.00910278288991874,
          -0.02044436996336023,
          0.013370647815065483,
          0.004806732026003048,
          0.019374196513150106,
          -0.020826957394878574,
          0.02913442360774374,
          -0.005574137238904824,
          0.0035463420054913206,
          -0.004891544914883894,
          0.0006920995583978777,
          -0.008486592258426687,
          -0.00021151348422342327,
          0.010182058196013555,
          0.019949064503820935,
          0.022023461283703288,
          0.0222871255667885,
          -0.016329772642846664,
          -0.003875267548424957,
          0.016028114887607133,
          -0.01577684638890498,
          0.0052358903539732465,
          -0.006693323231878686,
          -0.018973263067306165,
          -0.005574137238904824,
          0.0035463420054913206,
          0.017904853547277874,
          -0.004891544914883894,
          -0.01886444985201505,
          0.0006920995583978777,
          -0.008486592258426687,
          0.017772118698558364,
          0.005082447942109704,
          0.0052358903539732465,
          0.0075901126684045275,
          0.07281785822692403,
          -0.006693323231878686,
          0.02782226746288369,
          0.0012484704295955126,
          0.020699779172885544,
          0.017772118698558364,
          0.02782226746288369,
          0.012815693157743061,
          -0.009830315876354042,
          0.00008874217171698464,
          -0.021438611294521383,
          0.02782226746288369,
          -0.006479219104461266,
          -0.009830315876354042,
          0.00008874217171698464,
          -0.021438611294521383,
          0.007142463128094366,
          0.021414335544334827,
          -0.006479219104461266,
          0.007142463128094366,
          0.021414335544334827
         ],
         "yaxis": "y"
        },
        {
         "customdata": [
          [
           "Selections from the Collection of Jefferson R. Burdick",
           "2015"
          ],
          [
           "Selections from the Collection of Jefferson R. Burdick",
           "2015"
          ],
          [
           "Selections from the Collection of Jefferson R. Burdick",
           "2015"
          ],
          [
           "Selections from the Collection of Jefferson R. Burdick",
           "2016"
          ],
          [
           "Selections from the Collection of Jefferson R. Burdick",
           "2016"
          ],
          [
           "Selections from the Collection of Jefferson R. Burdick",
           "2017"
          ],
          [
           "Selections from the Collection of Jefferson R. Burdick",
           "2017"
          ],
          [
           "Selections from the Collection of Jefferson R. Burdick",
           "2018"
          ],
          [
           "Selections from the Collection of Jefferson R. Burdick",
           "2019"
          ],
          [
           "Selections from the Collection of Jefferson R. Burdick",
           "2019"
          ],
          [
           "Selections from the Collection of Jefferson R. Burdick",
           "2020"
          ],
          [
           "Selections from the Collection of Jefferson R. Burdick",
           "2020"
          ],
          [
           "Selections from the Collection of Jefferson R. Burdick",
           "2021"
          ],
          [
           "Baseball Cards from the Collection of Jefferson R. Burdick",
           "2023"
          ],
          [
           "Baseball Cards from the Collection of Jefferson R. Burdick",
           "2023"
          ],
          [
           "Baseball Cards from the Collection of Jefferson R. Burdick",
           "2024"
          ]
         ],
         "hovertemplate": "color=2<br>PCA Component 1=%{x}<br>PCA Component 2=%{y}<br>Title=%{customdata[0]}<br>Year=%{customdata[1]}<extra></extra>",
         "legendgroup": "2",
         "marker": {
          "color": "#19d3f3",
          "symbol": "circle"
         },
         "mode": "markers",
         "name": "2",
         "orientation": "v",
         "showlegend": true,
         "type": "scatter",
         "x": [
          -0.1464355437357085,
          -0.1464355437357085,
          -0.147163376386706,
          -0.14623670748143885,
          -0.1464355437357085,
          -0.14623670748143885,
          -0.14623670748143885,
          -0.14623670748143885,
          -0.1537082252275616,
          -0.14103456583819446,
          -0.15278861881019842,
          -0.1537082252275616,
          -0.15278861881019842,
          -0.15367934383308668,
          -0.15367934383308668,
          -0.15367934383308668
         ],
         "xaxis": "x",
         "y": [
          0.9394912737350792,
          0.9394912737350792,
          0.9268289615685297,
          0.9453373245214914,
          0.9394912737350792,
          0.9453373245214914,
          0.9453373245214914,
          0.9453373245214914,
          0.9342930700721974,
          0.914117209528808,
          0.9298915744030807,
          0.9342930700721974,
          0.9298915744030807,
          0.9372627064266923,
          0.9372627064266923,
          0.9372627064266923
         ],
         "yaxis": "y"
        },
        {
         "customdata": [
          [
           "Christmas Tree and Neapolitan Baroque Crèche",
           "2015"
          ],
          [
           "Christmas Tree and Neapolitan Baroque Crèche",
           "2015"
          ],
          [
           "Christmas Tree and Neapolitan Baroque Crèche",
           "2016"
          ],
          [
           "Christmas Tree and Neapolitan Baroque Crèche",
           "2016"
          ],
          [
           "Christmas Tree and Neapolitan Baroque Crèche",
           "2017"
          ],
          [
           "Christmas Tree and Neapolitan Baroque Crèche",
           "2017"
          ],
          [
           "Christmas Tree and Neapolitan Baroque Crèche",
           "2018"
          ],
          [
           "Christmas Tree and Neapolitan Baroque Crèche",
           "2018"
          ],
          [
           "Christmas Tree and Neapolitan Baroque Crèche",
           "2019"
          ],
          [
           "Christmas Tree and Neapolitan Baroque Crèche",
           "2019"
          ],
          [
           "Christmas Tree and Neapolitan Baroque Crèche",
           "2020"
          ],
          [
           "Christmas Tree and Neapolitan Baroque Crèche",
           "2020"
          ],
          [
           "Christmas Tree and Neapolitan Baroque Crèche",
           "2021"
          ],
          [
           "Christmas Tree and Neapolitan Baroque Crèche",
           "2021"
          ],
          [
           "Christmas Tree and Neapolitan Baroque Crèche",
           "2022"
          ],
          [
           "Christmas Tree and Neapolitan Baroque Crèche",
           "2022"
          ],
          [
           "Christmas Tree and Neapolitan Baroque Crèche",
           "2023"
          ],
          [
           "Christmas Tree and Neapolitan Baroque Crèche",
           "2023"
          ],
          [
           "Christmas Tree and Neapolitan Baroque Crèche",
           "2024"
          ],
          [
           "Christmas Tree and Neapolitan Baroque Crèche",
           "2024"
          ]
         ],
         "hovertemplate": "color=1<br>PCA Component 1=%{x}<br>PCA Component 2=%{y}<br>Title=%{customdata[0]}<br>Year=%{customdata[1]}<extra></extra>",
         "legendgroup": "1",
         "marker": {
          "color": "#FF6692",
          "symbol": "circle"
         },
         "mode": "markers",
         "name": "1",
         "orientation": "v",
         "showlegend": true,
         "type": "scatter",
         "x": [
          0.9210654903174611,
          0.9210654903174611,
          0.9210654903174611,
          0.9210654903174611,
          0.9210654903174611,
          0.9210654903174611,
          0.9210654903174611,
          0.9210654903174611,
          0.9221050974362175,
          0.9210654903174611,
          0.8583354244083009,
          0.9221050974362175,
          0.8572927535997145,
          0.8583354244083009,
          0.8572927535997145,
          0.8572927535997145,
          0.8710590430812597,
          0.8572927535997145,
          0.8710590430812597,
          0.8710590430812597
         ],
         "xaxis": "x",
         "y": [
          0.08963152106927899,
          0.08963152106927899,
          0.08963152106927899,
          0.08963152106927899,
          0.08963152106927899,
          0.08963152106927899,
          0.08963152106927899,
          0.08963152106927899,
          0.08595003808432496,
          0.08963152106927899,
          0.08223164561874269,
          0.08595003808432496,
          0.08931722106799787,
          0.08223164561874269,
          0.08931722106799787,
          0.08931722106799787,
          0.0905206158875745,
          0.08931722106799787,
          0.0905206158875745,
          0.0905206158875745
         ],
         "yaxis": "y"
        },
        {
         "customdata": [
          [
           "P.S. Art 2015",
           "2015"
          ],
          [
           "P.S. Art 2016",
           "2016"
          ],
          [
           "P.S. Art 2017: Celebrating the Creative Spirit of New York City Kids",
           "2017"
          ],
          [
           "P.S. Art 2018: Celebrating the Creative Spirit of New York City Kids",
           "2018"
          ],
          [
           "P.S. Art 2019: Celebrating the Creative Spirit of New York City Kids",
           "2019"
          ],
          [
           "P.S. Art 2020: Celebrating the Creative Spirit of New York City Kids",
           "2020"
          ],
          [
           "P.S. Art 2021: Celebrating the Creative Spirit of New York City Kids",
           "2021"
          ],
          [
           "P.S. Art 2020: Celebrating the Creative Spirit of New York City Kids",
           "2021"
          ],
          [
           "P.S. Art 2022: Celebrating the Creative Spirit of New York City Kids",
           "2022"
          ],
          [
           "P.S. Art 2023: Celebrating the Creative Spirit of New York City Kids",
           "2023"
          ],
          [
           "P. S. Art 2024: Celebrating the Creative Spirit of New York City Kids",
           "2024"
          ]
         ],
         "hovertemplate": "color=4<br>PCA Component 1=%{x}<br>PCA Component 2=%{y}<br>Title=%{customdata[0]}<br>Year=%{customdata[1]}<extra></extra>",
         "legendgroup": "4",
         "marker": {
          "color": "#B6E880",
          "symbol": "circle"
         },
         "mode": "markers",
         "name": "4",
         "orientation": "v",
         "showlegend": true,
         "type": "scatter",
         "x": [
          -0.10879778376452816,
          -0.11109353068547516,
          -0.11234639122789562,
          -0.11327575058381485,
          -0.1129156361738093,
          -0.11214404371277943,
          -0.1092032048608159,
          -0.11214404371277943,
          -0.10807228008467161,
          -0.10501827080953977,
          -0.1097743833591644
         ],
         "xaxis": "x",
         "y": [
          -0.14369890577812489,
          -0.1503023972850076,
          -0.15083322995750864,
          -0.1524906170425828,
          -0.15281480168655492,
          -0.15314654365418598,
          -0.15158588702888,
          -0.15314654365418598,
          -0.15077888197672343,
          -0.14906124756416225,
          -0.15365278380693573
         ],
         "yaxis": "y"
        },
        {
         "customdata": [
          [
           "Sargent: Portraits of Artists and Friends",
           "2015"
          ],
          [
           "Drawings and Prints",
           "2015"
          ],
          [
           "Navigating the West",
           "2015"
          ],
          [
           "Scholastic Art & Writing Awards",
           "2015"
          ],
          [
           "Madame Cézanne",
           "2015"
          ],
          [
           "Bartholomeus Spranger",
           "2015"
          ],
          [
           "Max Beckmann in New York",
           "2016"
          ],
          [
           "Drawings and Prints: Selections from The Met Collection",
           "2016"
          ],
          [
           "Valentin de Boulogne: Beyond Caravaggio",
           "2016"
          ],
          [
           "Fragonard: Drawing Triumphant—Works from New York Collections",
           "2016"
          ],
          [
           "Drawings and Prints: Selections from The Met Collection",
           "2016"
          ],
          [
           "Unfinished",
           "2016"
          ],
          [
           "Exploring What Matters: Art by The Met High School Interns",
           "2016"
          ],
          [
           "Drawings and Prints",
           "2016"
          ],
          [
           "Scholastic Art & Writing Awards: New York City Regional Exhibition",
           "2016"
          ],
          [
           "David Hockney",
           "2017"
          ],
          [
           "Michelangelo: Divine Draftsman and Designer",
           "2017"
          ],
          [
           "Edvard Munch: Between the Clock and the Bed",
           "2017"
          ],
          [
           "Gilded Age Drawings at The Met",
           "2017"
          ],
          [
           "Drawings and Prints: Selections from The Met Collection",
           "2017"
          ],
          [
           "Age of Empires: Chinese Art of the Qin and Han Dynasties (221 B.C.–A.D. 220)",
           "2017"
          ],
          [
           "Caravaggio's Last Two Paintings",
           "2017"
          ],
          [
           "Marsden Hartley's Maine",
           "2017"
          ],
          [
           "Scholastic Art & Writing Awards: New York City Regional Exhibition",
           "2017"
          ],
          [
           "Max Beckmann in New York",
           "2017"
          ],
          [
           "Drawings and Prints: Selections from The Met Collection",
           "2017"
          ],
          [
           "Valentin de Boulogne: Beyond Caravaggio",
           "2017"
          ],
          [
           "Fragonard: Drawing Triumphant—Works from New York Collections",
           "2017"
          ],
          [
           "Odyssey: Jack Whitten Sculpture, 1963–2017",
           "2018"
          ],
          [
           "Devotion to Drawing: The Karen B. Cohen Collection of Eugène Delacroix",
           "2018"
          ],
          [
           "History Refused to Die: Highlights from the Souls Grown Deep Foundation Gift",
           "2018"
          ],
          [
           "Scholastic Art & Writing Awards: New York City Regional Exhibition",
           "2018"
          ],
          [
           "Thomas Cole's Journey: Atlantic Crossings",
           "2018"
          ],
          [
           "David Hockney",
           "2018"
          ],
          [
           "Michelangelo: Divine Draftsman and Designer",
           "2018"
          ],
          [
           "Edvard Munch: Between the Clock and the Bed",
           "2018"
          ],
          [
           "Siah Armajani: Follow This Line",
           "2019"
          ],
          [
           "Scholastic Art & Writing Awards: New York City Regional Exhibition",
           "2019"
          ],
          [
           "Lucio Fontana: On the Threshold",
           "2019"
          ],
          [
           "Gerhard Richter: Painting After All",
           "2020"
          ],
          [
           "Gifts from the Fire: American Ceramics from the Collection of Martin Eidelberg",
           "2021"
          ],
          [
           "Inspiring Walt Disney: The Animation of French Decorative Arts",
           "2021"
          ],
          [
           "The Medici: Portraits and Politics, 1512–1570",
           "2021"
          ],
          [
           "Alice Neel: People Come First",
           "2021"
          ],
          [
           "The Tudors: Art and Majesty in Renaissance England",
           "2022"
          ],
          [
           "Gifts from the Fire: American Ceramics from the Collection of Martin Eidelberg",
           "2022"
          ],
          [
           "Charles Ray: Figure Ground",
           "2022"
          ],
          [
           "Scholastic Art & Writing Awards: New York City Regional Exhibition",
           "2022"
          ],
          [
           "Jacques Louis David: Radical Draftsman",
           "2022"
          ],
          [
           "Inspiring Walt Disney: The Animation of French Decorative Arts",
           "2022"
          ],
          [
           "Vertigo of Color: Matisse, Derain, and the Origins of Fauvism",
           "2023"
          ],
          [
           "Picasso: A Cubist Commission in Brooklyn",
           "2023"
          ],
          [
           "Manet/Degas",
           "2023"
          ],
          [
           "Cecily Brown: Death and the Maid",
           "2023"
          ],
          [
           "Scholastic Art & Writing Awards: New York City Regional Exhibition",
           "2023"
          ],
          [
           "The Tudors: Art and Majesty in Renaissance England",
           "2023"
          ],
          [
           "Siena: The Rise of Painting, 1300–1350",
           "2024"
          ],
          [
           "The Roof Garden Commission: Petrit Halilaj,Abetare",
           "2024"
          ],
          [
           "The Harlem Renaissance and Transatlantic Modernism",
           "2024"
          ],
          [
           "Indian Skies: The Howard Hodgkin Collection of Indian Court Painting",
           "2024"
          ],
          [
           "Vertigo of Color: Matisse, Derain, and the Origins of Fauvism",
           "2024"
          ],
          [
           "Picasso: A Cubist Commission in Brooklyn",
           "2024"
          ],
          [
           "Manet/Degas",
           "2024"
          ]
         ],
         "hovertemplate": "color=8<br>PCA Component 1=%{x}<br>PCA Component 2=%{y}<br>Title=%{customdata[0]}<br>Year=%{customdata[1]}<extra></extra>",
         "legendgroup": "8",
         "marker": {
          "color": "#FF97FF",
          "symbol": "circle"
         },
         "mode": "markers",
         "name": "8",
         "orientation": "v",
         "showlegend": true,
         "type": "scatter",
         "x": [
          -0.04539993508032576,
          -0.031694446619961236,
          -0.05021611617285594,
          -0.0783939979878777,
          -0.05509398004667923,
          -0.06221183086289369,
          -0.04594643178988239,
          -0.05472589682091557,
          -0.04658803070797233,
          -0.06823740963809857,
          -0.032887747537269765,
          -0.08228660942480084,
          -0.05930070636514776,
          -0.051420783482727134,
          -0.08041898825908124,
          -0.0451277146690609,
          -0.06995277262725834,
          -0.045718196742500404,
          -0.06422345244798129,
          -0.03753761181898562,
          -0.05520838412474077,
          -0.036450993845768505,
          -0.06996702528012397,
          -0.0805084602302932,
          -0.04594643178988239,
          -0.05472589682091557,
          -0.04658803070797233,
          -0.06823740963809857,
          -0.07014947701049835,
          -0.06342247092232582,
          -0.07650952093035769,
          -0.07733275327953787,
          -0.07469676495434421,
          -0.0451277146690609,
          -0.06995277262725834,
          -0.045718196742500404,
          -0.039075083590203674,
          -0.07384663009720692,
          -0.04815364644093228,
          -0.05579992960244075,
          -0.06284723656928057,
          -0.05549914753763561,
          -0.05148106782267631,
          -0.03561728365401908,
          -0.05042352079556438,
          -0.06284723656928057,
          -0.05838072306550917,
          -0.07631416732587118,
          -0.05080195806234027,
          -0.05549914753763561,
          -0.06530333730559135,
          -0.05372742348650903,
          -0.08636648227530574,
          -0.04526125913321195,
          -0.07601622974924288,
          -0.05042352079556438,
          -0.05068115043629945,
          -0.03247129285829984,
          -0.09336621605110328,
          -0.058182145643016485,
          -0.06530333730559135,
          -0.05372742348650903,
          -0.08636648227530574
         ],
         "xaxis": "x",
         "y": [
          -0.06041963026947372,
          -0.07652276326007441,
          -0.05168714824603752,
          -0.10164388520652903,
          -0.0484075199152253,
          -0.08053838522823402,
          -0.06560386293075217,
          -0.049203250530402594,
          -0.06180310795252222,
          -0.07323971602552971,
          -0.07723640924607966,
          -0.05239011655209417,
          -0.04802566953180224,
          -0.0843260561098901,
          -0.09942703785618856,
          -0.06147415839575526,
          -0.08455433499956465,
          -0.05831164334364842,
          -0.05659053616916735,
          -0.07794622943928786,
          -0.058375394627607984,
          -0.05823165529721171,
          -0.048571309261464635,
          -0.10151042209045538,
          -0.06560386293075217,
          -0.049203250530402594,
          -0.06180310795252222,
          -0.07323971602552971,
          -0.05732973746992528,
          -0.06649435361864803,
          -0.04942169951474257,
          -0.09941688458385847,
          -0.07451906887097266,
          -0.06147415839575526,
          -0.08455433499956465,
          -0.05831164334364842,
          -0.05705525824970023,
          -0.08901523250705813,
          -0.05394469675937703,
          -0.08081375900640131,
          -0.04438597209072445,
          -0.05328610694297878,
          -0.06036600491033203,
          -0.05635402089588697,
          -0.04833980317925917,
          -0.04438597209072445,
          -0.04439092597133442,
          -0.09581207507407018,
          -0.07831671994948945,
          -0.05328610694297878,
          -0.07348831915364967,
          -0.07362191325022029,
          -0.05597051030469378,
          -0.05619876252947871,
          -0.09217561604707894,
          -0.04833980317925917,
          -0.06042921011963566,
          -0.06395238051709196,
          -0.044275491580364146,
          -0.05460016148623022,
          -0.07348831915364967,
          -0.07362191325022029,
          -0.05597051030469378
         ],
         "yaxis": "y"
        },
        {
         "customdata": [
          [
           "The Old Ball Game",
           "2016"
          ],
          [
           "The World in Play",
           "2016"
          ],
          [
           "On the Ropes: Vintage Boxing Cards from the Jefferson R. Burdick Collection",
           "2018"
          ]
         ],
         "hovertemplate": "color=6<br>PCA Component 1=%{x}<br>PCA Component 2=%{y}<br>Title=%{customdata[0]}<br>Year=%{customdata[1]}<extra></extra>",
         "legendgroup": "6",
         "marker": {
          "color": "#FECB52",
          "symbol": "circle"
         },
         "mode": "markers",
         "name": "6",
         "orientation": "v",
         "showlegend": true,
         "type": "scatter",
         "x": [
          -0.0182127445760915,
          -0.03768452640687548,
          -0.044259246233441414
         ],
         "xaxis": "x",
         "y": [
          0.30642030069354176,
          0.27576060623210463,
          0.246414079832982
         ],
         "yaxis": "y"
        }
       ],
       "layout": {
        "legend": {
         "title": {
          "text": "color"
         },
         "tracegroupgap": 0
        },
        "template": {
         "data": {
          "bar": [
           {
            "error_x": {
             "color": "#2a3f5f"
            },
            "error_y": {
             "color": "#2a3f5f"
            },
            "marker": {
             "line": {
              "color": "#E5ECF6",
              "width": 0.5
             },
             "pattern": {
              "fillmode": "overlay",
              "size": 10,
              "solidity": 0.2
             }
            },
            "type": "bar"
           }
          ],
          "barpolar": [
           {
            "marker": {
             "line": {
              "color": "#E5ECF6",
              "width": 0.5
             },
             "pattern": {
              "fillmode": "overlay",
              "size": 10,
              "solidity": 0.2
             }
            },
            "type": "barpolar"
           }
          ],
          "carpet": [
           {
            "aaxis": {
             "endlinecolor": "#2a3f5f",
             "gridcolor": "white",
             "linecolor": "white",
             "minorgridcolor": "white",
             "startlinecolor": "#2a3f5f"
            },
            "baxis": {
             "endlinecolor": "#2a3f5f",
             "gridcolor": "white",
             "linecolor": "white",
             "minorgridcolor": "white",
             "startlinecolor": "#2a3f5f"
            },
            "type": "carpet"
           }
          ],
          "choropleth": [
           {
            "colorbar": {
             "outlinewidth": 0,
             "ticks": ""
            },
            "type": "choropleth"
           }
          ],
          "contour": [
           {
            "colorbar": {
             "outlinewidth": 0,
             "ticks": ""
            },
            "colorscale": [
             [
              0,
              "#0d0887"
             ],
             [
              0.1111111111111111,
              "#46039f"
             ],
             [
              0.2222222222222222,
              "#7201a8"
             ],
             [
              0.3333333333333333,
              "#9c179e"
             ],
             [
              0.4444444444444444,
              "#bd3786"
             ],
             [
              0.5555555555555556,
              "#d8576b"
             ],
             [
              0.6666666666666666,
              "#ed7953"
             ],
             [
              0.7777777777777778,
              "#fb9f3a"
             ],
             [
              0.8888888888888888,
              "#fdca26"
             ],
             [
              1,
              "#f0f921"
             ]
            ],
            "type": "contour"
           }
          ],
          "contourcarpet": [
           {
            "colorbar": {
             "outlinewidth": 0,
             "ticks": ""
            },
            "type": "contourcarpet"
           }
          ],
          "heatmap": [
           {
            "colorbar": {
             "outlinewidth": 0,
             "ticks": ""
            },
            "colorscale": [
             [
              0,
              "#0d0887"
             ],
             [
              0.1111111111111111,
              "#46039f"
             ],
             [
              0.2222222222222222,
              "#7201a8"
             ],
             [
              0.3333333333333333,
              "#9c179e"
             ],
             [
              0.4444444444444444,
              "#bd3786"
             ],
             [
              0.5555555555555556,
              "#d8576b"
             ],
             [
              0.6666666666666666,
              "#ed7953"
             ],
             [
              0.7777777777777778,
              "#fb9f3a"
             ],
             [
              0.8888888888888888,
              "#fdca26"
             ],
             [
              1,
              "#f0f921"
             ]
            ],
            "type": "heatmap"
           }
          ],
          "heatmapgl": [
           {
            "colorbar": {
             "outlinewidth": 0,
             "ticks": ""
            },
            "colorscale": [
             [
              0,
              "#0d0887"
             ],
             [
              0.1111111111111111,
              "#46039f"
             ],
             [
              0.2222222222222222,
              "#7201a8"
             ],
             [
              0.3333333333333333,
              "#9c179e"
             ],
             [
              0.4444444444444444,
              "#bd3786"
             ],
             [
              0.5555555555555556,
              "#d8576b"
             ],
             [
              0.6666666666666666,
              "#ed7953"
             ],
             [
              0.7777777777777778,
              "#fb9f3a"
             ],
             [
              0.8888888888888888,
              "#fdca26"
             ],
             [
              1,
              "#f0f921"
             ]
            ],
            "type": "heatmapgl"
           }
          ],
          "histogram": [
           {
            "marker": {
             "pattern": {
              "fillmode": "overlay",
              "size": 10,
              "solidity": 0.2
             }
            },
            "type": "histogram"
           }
          ],
          "histogram2d": [
           {
            "colorbar": {
             "outlinewidth": 0,
             "ticks": ""
            },
            "colorscale": [
             [
              0,
              "#0d0887"
             ],
             [
              0.1111111111111111,
              "#46039f"
             ],
             [
              0.2222222222222222,
              "#7201a8"
             ],
             [
              0.3333333333333333,
              "#9c179e"
             ],
             [
              0.4444444444444444,
              "#bd3786"
             ],
             [
              0.5555555555555556,
              "#d8576b"
             ],
             [
              0.6666666666666666,
              "#ed7953"
             ],
             [
              0.7777777777777778,
              "#fb9f3a"
             ],
             [
              0.8888888888888888,
              "#fdca26"
             ],
             [
              1,
              "#f0f921"
             ]
            ],
            "type": "histogram2d"
           }
          ],
          "histogram2dcontour": [
           {
            "colorbar": {
             "outlinewidth": 0,
             "ticks": ""
            },
            "colorscale": [
             [
              0,
              "#0d0887"
             ],
             [
              0.1111111111111111,
              "#46039f"
             ],
             [
              0.2222222222222222,
              "#7201a8"
             ],
             [
              0.3333333333333333,
              "#9c179e"
             ],
             [
              0.4444444444444444,
              "#bd3786"
             ],
             [
              0.5555555555555556,
              "#d8576b"
             ],
             [
              0.6666666666666666,
              "#ed7953"
             ],
             [
              0.7777777777777778,
              "#fb9f3a"
             ],
             [
              0.8888888888888888,
              "#fdca26"
             ],
             [
              1,
              "#f0f921"
             ]
            ],
            "type": "histogram2dcontour"
           }
          ],
          "mesh3d": [
           {
            "colorbar": {
             "outlinewidth": 0,
             "ticks": ""
            },
            "type": "mesh3d"
           }
          ],
          "parcoords": [
           {
            "line": {
             "colorbar": {
              "outlinewidth": 0,
              "ticks": ""
             }
            },
            "type": "parcoords"
           }
          ],
          "pie": [
           {
            "automargin": true,
            "type": "pie"
           }
          ],
          "scatter": [
           {
            "fillpattern": {
             "fillmode": "overlay",
             "size": 10,
             "solidity": 0.2
            },
            "type": "scatter"
           }
          ],
          "scatter3d": [
           {
            "line": {
             "colorbar": {
              "outlinewidth": 0,
              "ticks": ""
             }
            },
            "marker": {
             "colorbar": {
              "outlinewidth": 0,
              "ticks": ""
             }
            },
            "type": "scatter3d"
           }
          ],
          "scattercarpet": [
           {
            "marker": {
             "colorbar": {
              "outlinewidth": 0,
              "ticks": ""
             }
            },
            "type": "scattercarpet"
           }
          ],
          "scattergeo": [
           {
            "marker": {
             "colorbar": {
              "outlinewidth": 0,
              "ticks": ""
             }
            },
            "type": "scattergeo"
           }
          ],
          "scattergl": [
           {
            "marker": {
             "colorbar": {
              "outlinewidth": 0,
              "ticks": ""
             }
            },
            "type": "scattergl"
           }
          ],
          "scattermapbox": [
           {
            "marker": {
             "colorbar": {
              "outlinewidth": 0,
              "ticks": ""
             }
            },
            "type": "scattermapbox"
           }
          ],
          "scatterpolar": [
           {
            "marker": {
             "colorbar": {
              "outlinewidth": 0,
              "ticks": ""
             }
            },
            "type": "scatterpolar"
           }
          ],
          "scatterpolargl": [
           {
            "marker": {
             "colorbar": {
              "outlinewidth": 0,
              "ticks": ""
             }
            },
            "type": "scatterpolargl"
           }
          ],
          "scatterternary": [
           {
            "marker": {
             "colorbar": {
              "outlinewidth": 0,
              "ticks": ""
             }
            },
            "type": "scatterternary"
           }
          ],
          "surface": [
           {
            "colorbar": {
             "outlinewidth": 0,
             "ticks": ""
            },
            "colorscale": [
             [
              0,
              "#0d0887"
             ],
             [
              0.1111111111111111,
              "#46039f"
             ],
             [
              0.2222222222222222,
              "#7201a8"
             ],
             [
              0.3333333333333333,
              "#9c179e"
             ],
             [
              0.4444444444444444,
              "#bd3786"
             ],
             [
              0.5555555555555556,
              "#d8576b"
             ],
             [
              0.6666666666666666,
              "#ed7953"
             ],
             [
              0.7777777777777778,
              "#fb9f3a"
             ],
             [
              0.8888888888888888,
              "#fdca26"
             ],
             [
              1,
              "#f0f921"
             ]
            ],
            "type": "surface"
           }
          ],
          "table": [
           {
            "cells": {
             "fill": {
              "color": "#EBF0F8"
             },
             "line": {
              "color": "white"
             }
            },
            "header": {
             "fill": {
              "color": "#C8D4E3"
             },
             "line": {
              "color": "white"
             }
            },
            "type": "table"
           }
          ]
         },
         "layout": {
          "annotationdefaults": {
           "arrowcolor": "#2a3f5f",
           "arrowhead": 0,
           "arrowwidth": 1
          },
          "autotypenumbers": "strict",
          "coloraxis": {
           "colorbar": {
            "outlinewidth": 0,
            "ticks": ""
           }
          },
          "colorscale": {
           "diverging": [
            [
             0,
             "#8e0152"
            ],
            [
             0.1,
             "#c51b7d"
            ],
            [
             0.2,
             "#de77ae"
            ],
            [
             0.3,
             "#f1b6da"
            ],
            [
             0.4,
             "#fde0ef"
            ],
            [
             0.5,
             "#f7f7f7"
            ],
            [
             0.6,
             "#e6f5d0"
            ],
            [
             0.7,
             "#b8e186"
            ],
            [
             0.8,
             "#7fbc41"
            ],
            [
             0.9,
             "#4d9221"
            ],
            [
             1,
             "#276419"
            ]
           ],
           "sequential": [
            [
             0,
             "#0d0887"
            ],
            [
             0.1111111111111111,
             "#46039f"
            ],
            [
             0.2222222222222222,
             "#7201a8"
            ],
            [
             0.3333333333333333,
             "#9c179e"
            ],
            [
             0.4444444444444444,
             "#bd3786"
            ],
            [
             0.5555555555555556,
             "#d8576b"
            ],
            [
             0.6666666666666666,
             "#ed7953"
            ],
            [
             0.7777777777777778,
             "#fb9f3a"
            ],
            [
             0.8888888888888888,
             "#fdca26"
            ],
            [
             1,
             "#f0f921"
            ]
           ],
           "sequentialminus": [
            [
             0,
             "#0d0887"
            ],
            [
             0.1111111111111111,
             "#46039f"
            ],
            [
             0.2222222222222222,
             "#7201a8"
            ],
            [
             0.3333333333333333,
             "#9c179e"
            ],
            [
             0.4444444444444444,
             "#bd3786"
            ],
            [
             0.5555555555555556,
             "#d8576b"
            ],
            [
             0.6666666666666666,
             "#ed7953"
            ],
            [
             0.7777777777777778,
             "#fb9f3a"
            ],
            [
             0.8888888888888888,
             "#fdca26"
            ],
            [
             1,
             "#f0f921"
            ]
           ]
          },
          "colorway": [
           "#636efa",
           "#EF553B",
           "#00cc96",
           "#ab63fa",
           "#FFA15A",
           "#19d3f3",
           "#FF6692",
           "#B6E880",
           "#FF97FF",
           "#FECB52"
          ],
          "font": {
           "color": "#2a3f5f"
          },
          "geo": {
           "bgcolor": "white",
           "lakecolor": "white",
           "landcolor": "#E5ECF6",
           "showlakes": true,
           "showland": true,
           "subunitcolor": "white"
          },
          "hoverlabel": {
           "align": "left"
          },
          "hovermode": "closest",
          "mapbox": {
           "style": "light"
          },
          "paper_bgcolor": "white",
          "plot_bgcolor": "#E5ECF6",
          "polar": {
           "angularaxis": {
            "gridcolor": "white",
            "linecolor": "white",
            "ticks": ""
           },
           "bgcolor": "#E5ECF6",
           "radialaxis": {
            "gridcolor": "white",
            "linecolor": "white",
            "ticks": ""
           }
          },
          "scene": {
           "xaxis": {
            "backgroundcolor": "#E5ECF6",
            "gridcolor": "white",
            "gridwidth": 2,
            "linecolor": "white",
            "showbackground": true,
            "ticks": "",
            "zerolinecolor": "white"
           },
           "yaxis": {
            "backgroundcolor": "#E5ECF6",
            "gridcolor": "white",
            "gridwidth": 2,
            "linecolor": "white",
            "showbackground": true,
            "ticks": "",
            "zerolinecolor": "white"
           },
           "zaxis": {
            "backgroundcolor": "#E5ECF6",
            "gridcolor": "white",
            "gridwidth": 2,
            "linecolor": "white",
            "showbackground": true,
            "ticks": "",
            "zerolinecolor": "white"
           }
          },
          "shapedefaults": {
           "line": {
            "color": "#2a3f5f"
           }
          },
          "ternary": {
           "aaxis": {
            "gridcolor": "white",
            "linecolor": "white",
            "ticks": ""
           },
           "baxis": {
            "gridcolor": "white",
            "linecolor": "white",
            "ticks": ""
           },
           "bgcolor": "#E5ECF6",
           "caxis": {
            "gridcolor": "white",
            "linecolor": "white",
            "ticks": ""
           }
          },
          "title": {
           "x": 0.05
          },
          "xaxis": {
           "automargin": true,
           "gridcolor": "white",
           "linecolor": "white",
           "ticks": "",
           "title": {
            "standoff": 15
           },
           "zerolinecolor": "white",
           "zerolinewidth": 2
          },
          "yaxis": {
           "automargin": true,
           "gridcolor": "white",
           "linecolor": "white",
           "ticks": "",
           "title": {
            "standoff": 15
           },
           "zerolinecolor": "white",
           "zerolinewidth": 2
          }
         }
        },
        "title": {
         "text": "PCA of the MET Exhibitions (Color-Coded by Theme)"
        },
        "xaxis": {
         "anchor": "y",
         "domain": [
          0,
          1
         ],
         "title": {
          "text": "PCA Component 1"
         }
        },
        "yaxis": {
         "anchor": "x",
         "domain": [
          0,
          1
         ],
         "title": {
          "text": "PCA Component 2"
         }
        }
       }
      }
     },
     "metadata": {},
     "output_type": "display_data"
    }
   ],
   "source": [
    "# Plot the scatter plot\n",
    "\n",
    "fig = px.scatter(\n",
    "    pca_df,\n",
    "    x=\"PCA1\",\n",
    "    y=\"PCA2\",\n",
    "    color=pca_df[\"Cluster\"].astype(str),\n",
    "    hover_data={\"Title\": True, \"Year\": True},\n",
    "    title=\"PCA of the MET Exhibitions (Color-Coded by Theme)\",\n",
    "    labels={\"PCA1\": \"PCA Component 1\", \"PCA2\": \"PCA Component 2\"}\n",
    ")\n",
    "fig.show()"
   ]
  },
  {
   "cell_type": "code",
   "execution_count": null,
   "metadata": {},
   "outputs": [],
   "source": [
    "# Define the Zoomed-In View Function\n",
    "\n",
    "def zoom_to_cluster(pca_df, cluster_number):\n",
    "    cluster_data = pca_df[pca_df[\"Cluster\"] == cluster_number]\n",
    "    x_min, x_max = cluster_data[\"PCA1\"].min(), cluster_data[\"PCA1\"].max()\n",
    "    y_min, y_max = cluster_data[\"PCA2\"].min(), cluster_data[\"PCA2\"].max()\n",
    "    \n",
    "    # Increase padding for better zoom visualization\n",
    "    x_padding = (x_max - x_min) * 0.2\n",
    "    y_padding = (y_max - y_min) * 0.2\n",
    "\n",
    "    # Create the zoomed-in plot with larger canvas size and adjusted axis ranges\n",
    "    fig = px.scatter(\n",
    "        cluster_data,\n",
    "        x=\"PCA1\",\n",
    "        y=\"PCA2\",\n",
    "        color=\"Year\",  # Color by Year for the zoomed-in view\n",
    "        hover_data={\"Title\": True, \"Year\": True},  # Include Year in hover\n",
    "        title=f\"Zoomed-in View of Cluster {cluster_number} (Color-Coded by Year)\",\n",
    "        labels={\"PCA1\": \"PCA Component 1\", \"PCA2\": \"PCA Component 2\"}\n",
    "    )\n",
    "    \n",
    "    fig.update_layout(\n",
    "        width=1000,  # Set canvas width\n",
    "        height=800,  # Set canvas height\n",
    "        margin=dict(l=50, r=50, t=50, b=50)  # Adjust margins for better spacing\n",
    "    )\n",
    "    \n",
    "    fig.update_xaxes(range=[x_min - x_padding, x_max + x_padding])\n",
    "    fig.update_yaxes(range=[y_min - y_padding, y_max + y_padding])\n",
    "    \n",
    "    fig.show()"
   ]
  },
  {
   "cell_type": "code",
   "execution_count": null,
   "metadata": {},
   "outputs": [
    {
     "data": {
      "application/vnd.plotly.v1+json": {
       "config": {
        "plotlyServerURL": "https://plot.ly"
       },
       "data": [
        {
         "customdata": [
          [
           "Christmas Tree and Neapolitan Baroque Crèche",
           "2015"
          ],
          [
           "Christmas Tree and Neapolitan Baroque Crèche",
           "2015"
          ]
         ],
         "hovertemplate": "Year=%{customdata[1]}<br>PCA Component 1=%{x}<br>PCA Component 2=%{y}<br>Title=%{customdata[0]}<extra></extra>",
         "legendgroup": "2015",
         "marker": {
          "color": "#636efa",
          "symbol": "circle"
         },
         "mode": "markers",
         "name": "2015",
         "orientation": "v",
         "showlegend": true,
         "type": "scatter",
         "x": [
          0.9210654903174611,
          0.9210654903174611
         ],
         "xaxis": "x",
         "y": [
          0.08963152106927899,
          0.08963152106927899
         ],
         "yaxis": "y"
        },
        {
         "customdata": [
          [
           "Christmas Tree and Neapolitan Baroque Crèche",
           "2016"
          ],
          [
           "Christmas Tree and Neapolitan Baroque Crèche",
           "2016"
          ]
         ],
         "hovertemplate": "Year=%{customdata[1]}<br>PCA Component 1=%{x}<br>PCA Component 2=%{y}<br>Title=%{customdata[0]}<extra></extra>",
         "legendgroup": "2016",
         "marker": {
          "color": "#EF553B",
          "symbol": "circle"
         },
         "mode": "markers",
         "name": "2016",
         "orientation": "v",
         "showlegend": true,
         "type": "scatter",
         "x": [
          0.9210654903174611,
          0.9210654903174611
         ],
         "xaxis": "x",
         "y": [
          0.08963152106927899,
          0.08963152106927899
         ],
         "yaxis": "y"
        },
        {
         "customdata": [
          [
           "Christmas Tree and Neapolitan Baroque Crèche",
           "2017"
          ],
          [
           "Christmas Tree and Neapolitan Baroque Crèche",
           "2017"
          ]
         ],
         "hovertemplate": "Year=%{customdata[1]}<br>PCA Component 1=%{x}<br>PCA Component 2=%{y}<br>Title=%{customdata[0]}<extra></extra>",
         "legendgroup": "2017",
         "marker": {
          "color": "#00cc96",
          "symbol": "circle"
         },
         "mode": "markers",
         "name": "2017",
         "orientation": "v",
         "showlegend": true,
         "type": "scatter",
         "x": [
          0.9210654903174611,
          0.9210654903174611
         ],
         "xaxis": "x",
         "y": [
          0.08963152106927899,
          0.08963152106927899
         ],
         "yaxis": "y"
        },
        {
         "customdata": [
          [
           "Christmas Tree and Neapolitan Baroque Crèche",
           "2018"
          ],
          [
           "Christmas Tree and Neapolitan Baroque Crèche",
           "2018"
          ]
         ],
         "hovertemplate": "Year=%{customdata[1]}<br>PCA Component 1=%{x}<br>PCA Component 2=%{y}<br>Title=%{customdata[0]}<extra></extra>",
         "legendgroup": "2018",
         "marker": {
          "color": "#ab63fa",
          "symbol": "circle"
         },
         "mode": "markers",
         "name": "2018",
         "orientation": "v",
         "showlegend": true,
         "type": "scatter",
         "x": [
          0.9210654903174611,
          0.9210654903174611
         ],
         "xaxis": "x",
         "y": [
          0.08963152106927899,
          0.08963152106927899
         ],
         "yaxis": "y"
        },
        {
         "customdata": [
          [
           "Christmas Tree and Neapolitan Baroque Crèche",
           "2019"
          ],
          [
           "Christmas Tree and Neapolitan Baroque Crèche",
           "2019"
          ]
         ],
         "hovertemplate": "Year=%{customdata[1]}<br>PCA Component 1=%{x}<br>PCA Component 2=%{y}<br>Title=%{customdata[0]}<extra></extra>",
         "legendgroup": "2019",
         "marker": {
          "color": "#FFA15A",
          "symbol": "circle"
         },
         "mode": "markers",
         "name": "2019",
         "orientation": "v",
         "showlegend": true,
         "type": "scatter",
         "x": [
          0.9221050974362175,
          0.9210654903174611
         ],
         "xaxis": "x",
         "y": [
          0.08595003808432496,
          0.08963152106927899
         ],
         "yaxis": "y"
        },
        {
         "customdata": [
          [
           "Christmas Tree and Neapolitan Baroque Crèche",
           "2020"
          ],
          [
           "Christmas Tree and Neapolitan Baroque Crèche",
           "2020"
          ]
         ],
         "hovertemplate": "Year=%{customdata[1]}<br>PCA Component 1=%{x}<br>PCA Component 2=%{y}<br>Title=%{customdata[0]}<extra></extra>",
         "legendgroup": "2020",
         "marker": {
          "color": "#19d3f3",
          "symbol": "circle"
         },
         "mode": "markers",
         "name": "2020",
         "orientation": "v",
         "showlegend": true,
         "type": "scatter",
         "x": [
          0.8583354244083009,
          0.9221050974362175
         ],
         "xaxis": "x",
         "y": [
          0.08223164561874269,
          0.08595003808432496
         ],
         "yaxis": "y"
        },
        {
         "customdata": [
          [
           "Christmas Tree and Neapolitan Baroque Crèche",
           "2021"
          ],
          [
           "Christmas Tree and Neapolitan Baroque Crèche",
           "2021"
          ]
         ],
         "hovertemplate": "Year=%{customdata[1]}<br>PCA Component 1=%{x}<br>PCA Component 2=%{y}<br>Title=%{customdata[0]}<extra></extra>",
         "legendgroup": "2021",
         "marker": {
          "color": "#FF6692",
          "symbol": "circle"
         },
         "mode": "markers",
         "name": "2021",
         "orientation": "v",
         "showlegend": true,
         "type": "scatter",
         "x": [
          0.8572927535997145,
          0.8583354244083009
         ],
         "xaxis": "x",
         "y": [
          0.08931722106799787,
          0.08223164561874269
         ],
         "yaxis": "y"
        },
        {
         "customdata": [
          [
           "Christmas Tree and Neapolitan Baroque Crèche",
           "2022"
          ],
          [
           "Christmas Tree and Neapolitan Baroque Crèche",
           "2022"
          ]
         ],
         "hovertemplate": "Year=%{customdata[1]}<br>PCA Component 1=%{x}<br>PCA Component 2=%{y}<br>Title=%{customdata[0]}<extra></extra>",
         "legendgroup": "2022",
         "marker": {
          "color": "#B6E880",
          "symbol": "circle"
         },
         "mode": "markers",
         "name": "2022",
         "orientation": "v",
         "showlegend": true,
         "type": "scatter",
         "x": [
          0.8572927535997145,
          0.8572927535997145
         ],
         "xaxis": "x",
         "y": [
          0.08931722106799787,
          0.08931722106799787
         ],
         "yaxis": "y"
        },
        {
         "customdata": [
          [
           "Christmas Tree and Neapolitan Baroque Crèche",
           "2023"
          ],
          [
           "Christmas Tree and Neapolitan Baroque Crèche",
           "2023"
          ]
         ],
         "hovertemplate": "Year=%{customdata[1]}<br>PCA Component 1=%{x}<br>PCA Component 2=%{y}<br>Title=%{customdata[0]}<extra></extra>",
         "legendgroup": "2023",
         "marker": {
          "color": "#FF97FF",
          "symbol": "circle"
         },
         "mode": "markers",
         "name": "2023",
         "orientation": "v",
         "showlegend": true,
         "type": "scatter",
         "x": [
          0.8710590430812597,
          0.8572927535997145
         ],
         "xaxis": "x",
         "y": [
          0.0905206158875745,
          0.08931722106799787
         ],
         "yaxis": "y"
        },
        {
         "customdata": [
          [
           "Christmas Tree and Neapolitan Baroque Crèche",
           "2024"
          ],
          [
           "Christmas Tree and Neapolitan Baroque Crèche",
           "2024"
          ]
         ],
         "hovertemplate": "Year=%{customdata[1]}<br>PCA Component 1=%{x}<br>PCA Component 2=%{y}<br>Title=%{customdata[0]}<extra></extra>",
         "legendgroup": "2024",
         "marker": {
          "color": "#FECB52",
          "symbol": "circle"
         },
         "mode": "markers",
         "name": "2024",
         "orientation": "v",
         "showlegend": true,
         "type": "scatter",
         "x": [
          0.8710590430812597,
          0.8710590430812597
         ],
         "xaxis": "x",
         "y": [
          0.0905206158875745,
          0.0905206158875745
         ],
         "yaxis": "y"
        }
       ],
       "layout": {
        "height": 800,
        "legend": {
         "title": {
          "text": "Year"
         },
         "tracegroupgap": 0
        },
        "margin": {
         "b": 50,
         "l": 50,
         "r": 50,
         "t": 50
        },
        "template": {
         "data": {
          "bar": [
           {
            "error_x": {
             "color": "#2a3f5f"
            },
            "error_y": {
             "color": "#2a3f5f"
            },
            "marker": {
             "line": {
              "color": "#E5ECF6",
              "width": 0.5
             },
             "pattern": {
              "fillmode": "overlay",
              "size": 10,
              "solidity": 0.2
             }
            },
            "type": "bar"
           }
          ],
          "barpolar": [
           {
            "marker": {
             "line": {
              "color": "#E5ECF6",
              "width": 0.5
             },
             "pattern": {
              "fillmode": "overlay",
              "size": 10,
              "solidity": 0.2
             }
            },
            "type": "barpolar"
           }
          ],
          "carpet": [
           {
            "aaxis": {
             "endlinecolor": "#2a3f5f",
             "gridcolor": "white",
             "linecolor": "white",
             "minorgridcolor": "white",
             "startlinecolor": "#2a3f5f"
            },
            "baxis": {
             "endlinecolor": "#2a3f5f",
             "gridcolor": "white",
             "linecolor": "white",
             "minorgridcolor": "white",
             "startlinecolor": "#2a3f5f"
            },
            "type": "carpet"
           }
          ],
          "choropleth": [
           {
            "colorbar": {
             "outlinewidth": 0,
             "ticks": ""
            },
            "type": "choropleth"
           }
          ],
          "contour": [
           {
            "colorbar": {
             "outlinewidth": 0,
             "ticks": ""
            },
            "colorscale": [
             [
              0,
              "#0d0887"
             ],
             [
              0.1111111111111111,
              "#46039f"
             ],
             [
              0.2222222222222222,
              "#7201a8"
             ],
             [
              0.3333333333333333,
              "#9c179e"
             ],
             [
              0.4444444444444444,
              "#bd3786"
             ],
             [
              0.5555555555555556,
              "#d8576b"
             ],
             [
              0.6666666666666666,
              "#ed7953"
             ],
             [
              0.7777777777777778,
              "#fb9f3a"
             ],
             [
              0.8888888888888888,
              "#fdca26"
             ],
             [
              1,
              "#f0f921"
             ]
            ],
            "type": "contour"
           }
          ],
          "contourcarpet": [
           {
            "colorbar": {
             "outlinewidth": 0,
             "ticks": ""
            },
            "type": "contourcarpet"
           }
          ],
          "heatmap": [
           {
            "colorbar": {
             "outlinewidth": 0,
             "ticks": ""
            },
            "colorscale": [
             [
              0,
              "#0d0887"
             ],
             [
              0.1111111111111111,
              "#46039f"
             ],
             [
              0.2222222222222222,
              "#7201a8"
             ],
             [
              0.3333333333333333,
              "#9c179e"
             ],
             [
              0.4444444444444444,
              "#bd3786"
             ],
             [
              0.5555555555555556,
              "#d8576b"
             ],
             [
              0.6666666666666666,
              "#ed7953"
             ],
             [
              0.7777777777777778,
              "#fb9f3a"
             ],
             [
              0.8888888888888888,
              "#fdca26"
             ],
             [
              1,
              "#f0f921"
             ]
            ],
            "type": "heatmap"
           }
          ],
          "heatmapgl": [
           {
            "colorbar": {
             "outlinewidth": 0,
             "ticks": ""
            },
            "colorscale": [
             [
              0,
              "#0d0887"
             ],
             [
              0.1111111111111111,
              "#46039f"
             ],
             [
              0.2222222222222222,
              "#7201a8"
             ],
             [
              0.3333333333333333,
              "#9c179e"
             ],
             [
              0.4444444444444444,
              "#bd3786"
             ],
             [
              0.5555555555555556,
              "#d8576b"
             ],
             [
              0.6666666666666666,
              "#ed7953"
             ],
             [
              0.7777777777777778,
              "#fb9f3a"
             ],
             [
              0.8888888888888888,
              "#fdca26"
             ],
             [
              1,
              "#f0f921"
             ]
            ],
            "type": "heatmapgl"
           }
          ],
          "histogram": [
           {
            "marker": {
             "pattern": {
              "fillmode": "overlay",
              "size": 10,
              "solidity": 0.2
             }
            },
            "type": "histogram"
           }
          ],
          "histogram2d": [
           {
            "colorbar": {
             "outlinewidth": 0,
             "ticks": ""
            },
            "colorscale": [
             [
              0,
              "#0d0887"
             ],
             [
              0.1111111111111111,
              "#46039f"
             ],
             [
              0.2222222222222222,
              "#7201a8"
             ],
             [
              0.3333333333333333,
              "#9c179e"
             ],
             [
              0.4444444444444444,
              "#bd3786"
             ],
             [
              0.5555555555555556,
              "#d8576b"
             ],
             [
              0.6666666666666666,
              "#ed7953"
             ],
             [
              0.7777777777777778,
              "#fb9f3a"
             ],
             [
              0.8888888888888888,
              "#fdca26"
             ],
             [
              1,
              "#f0f921"
             ]
            ],
            "type": "histogram2d"
           }
          ],
          "histogram2dcontour": [
           {
            "colorbar": {
             "outlinewidth": 0,
             "ticks": ""
            },
            "colorscale": [
             [
              0,
              "#0d0887"
             ],
             [
              0.1111111111111111,
              "#46039f"
             ],
             [
              0.2222222222222222,
              "#7201a8"
             ],
             [
              0.3333333333333333,
              "#9c179e"
             ],
             [
              0.4444444444444444,
              "#bd3786"
             ],
             [
              0.5555555555555556,
              "#d8576b"
             ],
             [
              0.6666666666666666,
              "#ed7953"
             ],
             [
              0.7777777777777778,
              "#fb9f3a"
             ],
             [
              0.8888888888888888,
              "#fdca26"
             ],
             [
              1,
              "#f0f921"
             ]
            ],
            "type": "histogram2dcontour"
           }
          ],
          "mesh3d": [
           {
            "colorbar": {
             "outlinewidth": 0,
             "ticks": ""
            },
            "type": "mesh3d"
           }
          ],
          "parcoords": [
           {
            "line": {
             "colorbar": {
              "outlinewidth": 0,
              "ticks": ""
             }
            },
            "type": "parcoords"
           }
          ],
          "pie": [
           {
            "automargin": true,
            "type": "pie"
           }
          ],
          "scatter": [
           {
            "fillpattern": {
             "fillmode": "overlay",
             "size": 10,
             "solidity": 0.2
            },
            "type": "scatter"
           }
          ],
          "scatter3d": [
           {
            "line": {
             "colorbar": {
              "outlinewidth": 0,
              "ticks": ""
             }
            },
            "marker": {
             "colorbar": {
              "outlinewidth": 0,
              "ticks": ""
             }
            },
            "type": "scatter3d"
           }
          ],
          "scattercarpet": [
           {
            "marker": {
             "colorbar": {
              "outlinewidth": 0,
              "ticks": ""
             }
            },
            "type": "scattercarpet"
           }
          ],
          "scattergeo": [
           {
            "marker": {
             "colorbar": {
              "outlinewidth": 0,
              "ticks": ""
             }
            },
            "type": "scattergeo"
           }
          ],
          "scattergl": [
           {
            "marker": {
             "colorbar": {
              "outlinewidth": 0,
              "ticks": ""
             }
            },
            "type": "scattergl"
           }
          ],
          "scattermapbox": [
           {
            "marker": {
             "colorbar": {
              "outlinewidth": 0,
              "ticks": ""
             }
            },
            "type": "scattermapbox"
           }
          ],
          "scatterpolar": [
           {
            "marker": {
             "colorbar": {
              "outlinewidth": 0,
              "ticks": ""
             }
            },
            "type": "scatterpolar"
           }
          ],
          "scatterpolargl": [
           {
            "marker": {
             "colorbar": {
              "outlinewidth": 0,
              "ticks": ""
             }
            },
            "type": "scatterpolargl"
           }
          ],
          "scatterternary": [
           {
            "marker": {
             "colorbar": {
              "outlinewidth": 0,
              "ticks": ""
             }
            },
            "type": "scatterternary"
           }
          ],
          "surface": [
           {
            "colorbar": {
             "outlinewidth": 0,
             "ticks": ""
            },
            "colorscale": [
             [
              0,
              "#0d0887"
             ],
             [
              0.1111111111111111,
              "#46039f"
             ],
             [
              0.2222222222222222,
              "#7201a8"
             ],
             [
              0.3333333333333333,
              "#9c179e"
             ],
             [
              0.4444444444444444,
              "#bd3786"
             ],
             [
              0.5555555555555556,
              "#d8576b"
             ],
             [
              0.6666666666666666,
              "#ed7953"
             ],
             [
              0.7777777777777778,
              "#fb9f3a"
             ],
             [
              0.8888888888888888,
              "#fdca26"
             ],
             [
              1,
              "#f0f921"
             ]
            ],
            "type": "surface"
           }
          ],
          "table": [
           {
            "cells": {
             "fill": {
              "color": "#EBF0F8"
             },
             "line": {
              "color": "white"
             }
            },
            "header": {
             "fill": {
              "color": "#C8D4E3"
             },
             "line": {
              "color": "white"
             }
            },
            "type": "table"
           }
          ]
         },
         "layout": {
          "annotationdefaults": {
           "arrowcolor": "#2a3f5f",
           "arrowhead": 0,
           "arrowwidth": 1
          },
          "autotypenumbers": "strict",
          "coloraxis": {
           "colorbar": {
            "outlinewidth": 0,
            "ticks": ""
           }
          },
          "colorscale": {
           "diverging": [
            [
             0,
             "#8e0152"
            ],
            [
             0.1,
             "#c51b7d"
            ],
            [
             0.2,
             "#de77ae"
            ],
            [
             0.3,
             "#f1b6da"
            ],
            [
             0.4,
             "#fde0ef"
            ],
            [
             0.5,
             "#f7f7f7"
            ],
            [
             0.6,
             "#e6f5d0"
            ],
            [
             0.7,
             "#b8e186"
            ],
            [
             0.8,
             "#7fbc41"
            ],
            [
             0.9,
             "#4d9221"
            ],
            [
             1,
             "#276419"
            ]
           ],
           "sequential": [
            [
             0,
             "#0d0887"
            ],
            [
             0.1111111111111111,
             "#46039f"
            ],
            [
             0.2222222222222222,
             "#7201a8"
            ],
            [
             0.3333333333333333,
             "#9c179e"
            ],
            [
             0.4444444444444444,
             "#bd3786"
            ],
            [
             0.5555555555555556,
             "#d8576b"
            ],
            [
             0.6666666666666666,
             "#ed7953"
            ],
            [
             0.7777777777777778,
             "#fb9f3a"
            ],
            [
             0.8888888888888888,
             "#fdca26"
            ],
            [
             1,
             "#f0f921"
            ]
           ],
           "sequentialminus": [
            [
             0,
             "#0d0887"
            ],
            [
             0.1111111111111111,
             "#46039f"
            ],
            [
             0.2222222222222222,
             "#7201a8"
            ],
            [
             0.3333333333333333,
             "#9c179e"
            ],
            [
             0.4444444444444444,
             "#bd3786"
            ],
            [
             0.5555555555555556,
             "#d8576b"
            ],
            [
             0.6666666666666666,
             "#ed7953"
            ],
            [
             0.7777777777777778,
             "#fb9f3a"
            ],
            [
             0.8888888888888888,
             "#fdca26"
            ],
            [
             1,
             "#f0f921"
            ]
           ]
          },
          "colorway": [
           "#636efa",
           "#EF553B",
           "#00cc96",
           "#ab63fa",
           "#FFA15A",
           "#19d3f3",
           "#FF6692",
           "#B6E880",
           "#FF97FF",
           "#FECB52"
          ],
          "font": {
           "color": "#2a3f5f"
          },
          "geo": {
           "bgcolor": "white",
           "lakecolor": "white",
           "landcolor": "#E5ECF6",
           "showlakes": true,
           "showland": true,
           "subunitcolor": "white"
          },
          "hoverlabel": {
           "align": "left"
          },
          "hovermode": "closest",
          "mapbox": {
           "style": "light"
          },
          "paper_bgcolor": "white",
          "plot_bgcolor": "#E5ECF6",
          "polar": {
           "angularaxis": {
            "gridcolor": "white",
            "linecolor": "white",
            "ticks": ""
           },
           "bgcolor": "#E5ECF6",
           "radialaxis": {
            "gridcolor": "white",
            "linecolor": "white",
            "ticks": ""
           }
          },
          "scene": {
           "xaxis": {
            "backgroundcolor": "#E5ECF6",
            "gridcolor": "white",
            "gridwidth": 2,
            "linecolor": "white",
            "showbackground": true,
            "ticks": "",
            "zerolinecolor": "white"
           },
           "yaxis": {
            "backgroundcolor": "#E5ECF6",
            "gridcolor": "white",
            "gridwidth": 2,
            "linecolor": "white",
            "showbackground": true,
            "ticks": "",
            "zerolinecolor": "white"
           },
           "zaxis": {
            "backgroundcolor": "#E5ECF6",
            "gridcolor": "white",
            "gridwidth": 2,
            "linecolor": "white",
            "showbackground": true,
            "ticks": "",
            "zerolinecolor": "white"
           }
          },
          "shapedefaults": {
           "line": {
            "color": "#2a3f5f"
           }
          },
          "ternary": {
           "aaxis": {
            "gridcolor": "white",
            "linecolor": "white",
            "ticks": ""
           },
           "baxis": {
            "gridcolor": "white",
            "linecolor": "white",
            "ticks": ""
           },
           "bgcolor": "#E5ECF6",
           "caxis": {
            "gridcolor": "white",
            "linecolor": "white",
            "ticks": ""
           }
          },
          "title": {
           "x": 0.05
          },
          "xaxis": {
           "automargin": true,
           "gridcolor": "white",
           "linecolor": "white",
           "ticks": "",
           "title": {
            "standoff": 15
           },
           "zerolinecolor": "white",
           "zerolinewidth": 2
          },
          "yaxis": {
           "automargin": true,
           "gridcolor": "white",
           "linecolor": "white",
           "ticks": "",
           "title": {
            "standoff": 15
           },
           "zerolinecolor": "white",
           "zerolinewidth": 2
          }
         }
        },
        "title": {
         "text": "Zoomed-in View of Cluster 1 (Color-Coded by Year)"
        },
        "width": 1000,
        "xaxis": {
         "anchor": "y",
         "domain": [
          0,
          1
         ],
         "range": [
          0.8443302848324139,
          0.935067566203518
         ],
         "title": {
          "text": "PCA Component 1"
         }
        },
        "yaxis": {
         "anchor": "x",
         "domain": [
          0,
          1
         ],
         "range": [
          0.08057385156497633,
          0.09217840994134086
         ],
         "title": {
          "text": "PCA Component 2"
         }
        }
       }
      }
     },
     "metadata": {},
     "output_type": "display_data"
    }
   ],
   "source": [
    "# Call the Zoomed-In-View Function\n",
    "zoom_to_cluster(pca_df, cluster_number=1)"
   ]
  },
  {
   "cell_type": "markdown",
   "metadata": {},
   "source": [
    "\n"
   ]
  }
 ],
 "metadata": {
  "kernelspec": {
   "display_name": "digs20004",
   "language": "python",
   "name": "python3"
  },
  "language_info": {
   "codemirror_mode": {
    "name": "ipython",
    "version": 3
   },
   "file_extension": ".py",
   "mimetype": "text/x-python",
   "name": "python",
   "nbconvert_exporter": "python",
   "pygments_lexer": "ipython3",
   "version": "3.12.6"
  }
 },
 "nbformat": 4,
 "nbformat_minor": 2
}
